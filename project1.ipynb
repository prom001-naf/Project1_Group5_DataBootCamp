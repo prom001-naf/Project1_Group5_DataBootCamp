{
 "cells": [
  {
   "cell_type": "code",
   "execution_count": 1,
   "metadata": {},
   "outputs": [
    {
     "name": "stdout",
     "output_type": "stream",
     "text": [
      "Requirement already satisfied: nbformat in /opt/anaconda3/envs/pandas_intro/lib/python3.11/site-packages (5.10.4)\n",
      "Requirement already satisfied: fastjsonschema>=2.15 in /opt/anaconda3/envs/pandas_intro/lib/python3.11/site-packages (from nbformat) (2.20.0)\n",
      "Requirement already satisfied: jsonschema>=2.6 in /opt/anaconda3/envs/pandas_intro/lib/python3.11/site-packages (from nbformat) (4.23.0)\n",
      "Requirement already satisfied: jupyter-core!=5.0.*,>=4.12 in /opt/anaconda3/envs/pandas_intro/lib/python3.11/site-packages (from nbformat) (5.7.2)\n",
      "Requirement already satisfied: traitlets>=5.1 in /opt/anaconda3/envs/pandas_intro/lib/python3.11/site-packages (from nbformat) (5.14.3)\n",
      "Requirement already satisfied: attrs>=22.2.0 in /opt/anaconda3/envs/pandas_intro/lib/python3.11/site-packages (from jsonschema>=2.6->nbformat) (24.2.0)\n",
      "Requirement already satisfied: jsonschema-specifications>=2023.03.6 in /opt/anaconda3/envs/pandas_intro/lib/python3.11/site-packages (from jsonschema>=2.6->nbformat) (2024.10.1)\n",
      "Requirement already satisfied: referencing>=0.28.4 in /opt/anaconda3/envs/pandas_intro/lib/python3.11/site-packages (from jsonschema>=2.6->nbformat) (0.35.1)\n",
      "Requirement already satisfied: rpds-py>=0.7.1 in /opt/anaconda3/envs/pandas_intro/lib/python3.11/site-packages (from jsonschema>=2.6->nbformat) (0.20.0)\n",
      "Requirement already satisfied: platformdirs>=2.5 in /opt/anaconda3/envs/pandas_intro/lib/python3.11/site-packages (from jupyter-core!=5.0.*,>=4.12->nbformat) (4.3.6)\n",
      "Note: you may need to restart the kernel to use updated packages.\n"
     ]
    }
   ],
   "source": [
    "pip install nbformat"
   ]
  },
  {
   "cell_type": "code",
   "execution_count": 2,
   "metadata": {},
   "outputs": [
    {
     "name": "stdout",
     "output_type": "stream",
     "text": [
      "Requirement already satisfied: plotly in /opt/anaconda3/envs/pandas_intro/lib/python3.11/site-packages (5.24.1)\n",
      "Requirement already satisfied: tenacity>=6.2.0 in /opt/anaconda3/envs/pandas_intro/lib/python3.11/site-packages (from plotly) (9.0.0)\n",
      "Requirement already satisfied: packaging in /opt/anaconda3/envs/pandas_intro/lib/python3.11/site-packages (from plotly) (24.1)\n",
      "Note: you may need to restart the kernel to use updated packages.\n"
     ]
    }
   ],
   "source": [
    "pip install plotly\n"
   ]
  },
  {
   "cell_type": "code",
   "execution_count": 3,
   "metadata": {},
   "outputs": [
    {
     "name": "stdout",
     "output_type": "stream",
     "text": [
      "Requirement already satisfied: squarify in /opt/anaconda3/envs/pandas_intro/lib/python3.11/site-packages (0.4.4)\n",
      "Requirement already satisfied: matplotlib in /opt/anaconda3/envs/pandas_intro/lib/python3.11/site-packages (3.9.2)\n",
      "Requirement already satisfied: contourpy>=1.0.1 in /opt/anaconda3/envs/pandas_intro/lib/python3.11/site-packages (from matplotlib) (1.3.0)\n",
      "Requirement already satisfied: cycler>=0.10 in /opt/anaconda3/envs/pandas_intro/lib/python3.11/site-packages (from matplotlib) (0.12.1)\n",
      "Requirement already satisfied: fonttools>=4.22.0 in /opt/anaconda3/envs/pandas_intro/lib/python3.11/site-packages (from matplotlib) (4.54.1)\n",
      "Requirement already satisfied: kiwisolver>=1.3.1 in /opt/anaconda3/envs/pandas_intro/lib/python3.11/site-packages (from matplotlib) (1.4.7)\n",
      "Requirement already satisfied: numpy>=1.23 in /opt/anaconda3/envs/pandas_intro/lib/python3.11/site-packages (from matplotlib) (2.1.1)\n",
      "Requirement already satisfied: packaging>=20.0 in /opt/anaconda3/envs/pandas_intro/lib/python3.11/site-packages (from matplotlib) (24.1)\n",
      "Requirement already satisfied: pillow>=8 in /opt/anaconda3/envs/pandas_intro/lib/python3.11/site-packages (from matplotlib) (11.0.0)\n",
      "Requirement already satisfied: pyparsing>=2.3.1 in /opt/anaconda3/envs/pandas_intro/lib/python3.11/site-packages (from matplotlib) (3.2.0)\n",
      "Requirement already satisfied: python-dateutil>=2.7 in /opt/anaconda3/envs/pandas_intro/lib/python3.11/site-packages (from matplotlib) (2.9.0)\n",
      "Requirement already satisfied: six>=1.5 in /opt/anaconda3/envs/pandas_intro/lib/python3.11/site-packages (from python-dateutil>=2.7->matplotlib) (1.16.0)\n",
      "Note: you may need to restart the kernel to use updated packages.\n"
     ]
    }
   ],
   "source": [
    "pip install squarify matplotlib"
   ]
  },
  {
   "cell_type": "markdown",
   "metadata": {},
   "source": [
    "What are the most expensive cities in Ontario for housing, and how have their average house values changed over time?\n"
   ]
  },
  {
   "cell_type": "code",
   "execution_count": 4,
   "metadata": {},
   "outputs": [],
   "source": [
    "#importing necesssory libraries\n",
    "import pandas as pd\n",
    "import os\n",
    "import squarify\n",
    "import matplotlib.pyplot as plt\n",
    "import plotly.express as px"
   ]
  },
  {
   "cell_type": "markdown",
   "metadata": {},
   "source": [
    "Reading and uploading Data "
   ]
  },
  {
   "cell_type": "code",
   "execution_count": 5,
   "metadata": {},
   "outputs": [
    {
     "name": "stderr",
     "output_type": "stream",
     "text": [
      "/var/folders/5m/yk0sp4rs4xl5pym0mc58gvvw0000gn/T/ipykernel_97930/3764183381.py:5: DtypeWarning: Columns (17) have mixed types. Specify dtype option on import or set low_memory=False.\n",
      "  housing_ontario = pd.read_csv(file_path)\n"
     ]
    },
    {
     "data": {
      "text/html": [
       "<div>\n",
       "<style scoped>\n",
       "    .dataframe tbody tr th:only-of-type {\n",
       "        vertical-align: middle;\n",
       "    }\n",
       "\n",
       "    .dataframe tbody tr th {\n",
       "        vertical-align: top;\n",
       "    }\n",
       "\n",
       "    .dataframe thead th {\n",
       "        text-align: right;\n",
       "    }\n",
       "</style>\n",
       "<table border=\"1\" class=\"dataframe\">\n",
       "  <thead>\n",
       "    <tr style=\"text-align: right;\">\n",
       "      <th></th>\n",
       "      <th>Community_id</th>\n",
       "      <th>CommunityName</th>\n",
       "      <th>HouseType</th>\n",
       "      <th>HouseTypeName</th>\n",
       "      <th>MunicipalityID</th>\n",
       "      <th>MunicipalityName</th>\n",
       "      <th>Period</th>\n",
       "      <th>SoldCount</th>\n",
       "      <th>PriceSold</th>\n",
       "      <th>ListDays</th>\n",
       "      <th>ListCount</th>\n",
       "      <th>ListActive</th>\n",
       "      <th>AbsorptionRate</th>\n",
       "      <th>RentRatio</th>\n",
       "      <th>RentCount</th>\n",
       "      <th>PriceRent</th>\n",
       "      <th>RentListingCount</th>\n",
       "      <th>PropertyListingDOM</th>\n",
       "    </tr>\n",
       "  </thead>\n",
       "  <tbody>\n",
       "    <tr>\n",
       "      <th>0</th>\n",
       "      <td>5813</td>\n",
       "      <td>Carson Meadows</td>\n",
       "      <td>D.</td>\n",
       "      <td>Detached</td>\n",
       "      <td>10245</td>\n",
       "      <td>Ottawa</td>\n",
       "      <td>2019-08</td>\n",
       "      <td>2</td>\n",
       "      <td>558000</td>\n",
       "      <td>27</td>\n",
       "      <td>1</td>\n",
       "      <td>1</td>\n",
       "      <td>100.0</td>\n",
       "      <td>-</td>\n",
       "      <td>0</td>\n",
       "      <td>-</td>\n",
       "      <td>0</td>\n",
       "      <td>27</td>\n",
       "    </tr>\n",
       "    <tr>\n",
       "      <th>1</th>\n",
       "      <td>5813</td>\n",
       "      <td>Carson Meadows</td>\n",
       "      <td>D.</td>\n",
       "      <td>Detached</td>\n",
       "      <td>10245</td>\n",
       "      <td>Ottawa</td>\n",
       "      <td>2019-09</td>\n",
       "      <td>0</td>\n",
       "      <td>558000</td>\n",
       "      <td>27</td>\n",
       "      <td>1</td>\n",
       "      <td>2</td>\n",
       "      <td>50.0</td>\n",
       "      <td>-</td>\n",
       "      <td>0</td>\n",
       "      <td>-</td>\n",
       "      <td>0</td>\n",
       "      <td>27</td>\n",
       "    </tr>\n",
       "    <tr>\n",
       "      <th>2</th>\n",
       "      <td>5813</td>\n",
       "      <td>Carson Meadows</td>\n",
       "      <td>D.</td>\n",
       "      <td>Detached</td>\n",
       "      <td>10245</td>\n",
       "      <td>Ottawa</td>\n",
       "      <td>2019-10</td>\n",
       "      <td>2</td>\n",
       "      <td>634643</td>\n",
       "      <td>32</td>\n",
       "      <td>1</td>\n",
       "      <td>1</td>\n",
       "      <td>83.3</td>\n",
       "      <td>-</td>\n",
       "      <td>1</td>\n",
       "      <td>-</td>\n",
       "      <td>1</td>\n",
       "      <td>32</td>\n",
       "    </tr>\n",
       "    <tr>\n",
       "      <th>3</th>\n",
       "      <td>5813</td>\n",
       "      <td>Carson Meadows</td>\n",
       "      <td>D.</td>\n",
       "      <td>Detached</td>\n",
       "      <td>10245</td>\n",
       "      <td>Ottawa</td>\n",
       "      <td>2019-12</td>\n",
       "      <td>1</td>\n",
       "      <td>656667</td>\n",
       "      <td>44</td>\n",
       "      <td>0</td>\n",
       "      <td>0</td>\n",
       "      <td>100.0</td>\n",
       "      <td>-</td>\n",
       "      <td>0</td>\n",
       "      <td>-</td>\n",
       "      <td>0</td>\n",
       "      <td>44</td>\n",
       "    </tr>\n",
       "    <tr>\n",
       "      <th>4</th>\n",
       "      <td>5813</td>\n",
       "      <td>Carson Meadows</td>\n",
       "      <td>D.</td>\n",
       "      <td>Detached</td>\n",
       "      <td>10245</td>\n",
       "      <td>Ottawa</td>\n",
       "      <td>2020-02</td>\n",
       "      <td>1</td>\n",
       "      <td>655084</td>\n",
       "      <td>43</td>\n",
       "      <td>1</td>\n",
       "      <td>0</td>\n",
       "      <td>0.0</td>\n",
       "      <td>-</td>\n",
       "      <td>0</td>\n",
       "      <td>-</td>\n",
       "      <td>0</td>\n",
       "      <td>43</td>\n",
       "    </tr>\n",
       "  </tbody>\n",
       "</table>\n",
       "</div>"
      ],
      "text/plain": [
       "  Community_id   CommunityName HouseType HouseTypeName  MunicipalityID  \\\n",
       "0         5813  Carson Meadows        D.      Detached           10245   \n",
       "1         5813  Carson Meadows        D.      Detached           10245   \n",
       "2         5813  Carson Meadows        D.      Detached           10245   \n",
       "3         5813  Carson Meadows        D.      Detached           10245   \n",
       "4         5813  Carson Meadows        D.      Detached           10245   \n",
       "\n",
       "  MunicipalityName   Period  SoldCount  PriceSold  ListDays  ListCount  \\\n",
       "0           Ottawa  2019-08          2     558000        27          1   \n",
       "1           Ottawa  2019-09          0     558000        27          1   \n",
       "2           Ottawa  2019-10          2     634643        32          1   \n",
       "3           Ottawa  2019-12          1     656667        44          0   \n",
       "4           Ottawa  2020-02          1     655084        43          1   \n",
       "\n",
       "   ListActive  AbsorptionRate RentRatio  RentCount PriceRent  \\\n",
       "0           1           100.0         -          0         -   \n",
       "1           2            50.0         -          0         -   \n",
       "2           1            83.3         -          1         -   \n",
       "3           0           100.0         -          0         -   \n",
       "4           0             0.0         -          0         -   \n",
       "\n",
       "   RentListingCount PropertyListingDOM  \n",
       "0                 0                 27  \n",
       "1                 0                 27  \n",
       "2                 1                 32  \n",
       "3                 0                 44  \n",
       "4                 0                 43  "
      ]
     },
     "execution_count": 5,
     "metadata": {},
     "output_type": "execute_result"
    }
   ],
   "source": [
    "# Join the folder and file to create a complete path\n",
    "file_path = os.path.join(\"Resources\", \"charts_clean3.csv\")\n",
    "\n",
    "# Read the csv file into a DataFrame\n",
    "housing_ontario = pd.read_csv(file_path)\n",
    "\n",
    "# Display the DataFrame \n",
    "housing_ontario.head()"
   ]
  },
  {
   "cell_type": "markdown",
   "metadata": {},
   "source": [
    "Data Exploration"
   ]
  },
  {
   "cell_type": "code",
   "execution_count": 6,
   "metadata": {},
   "outputs": [
    {
     "data": {
      "text/html": [
       "<div>\n",
       "<style scoped>\n",
       "    .dataframe tbody tr th:only-of-type {\n",
       "        vertical-align: middle;\n",
       "    }\n",
       "\n",
       "    .dataframe tbody tr th {\n",
       "        vertical-align: top;\n",
       "    }\n",
       "\n",
       "    .dataframe thead th {\n",
       "        text-align: right;\n",
       "    }\n",
       "</style>\n",
       "<table border=\"1\" class=\"dataframe\">\n",
       "  <thead>\n",
       "    <tr style=\"text-align: right;\">\n",
       "      <th></th>\n",
       "      <th>MunicipalityID</th>\n",
       "      <th>SoldCount</th>\n",
       "      <th>PriceSold</th>\n",
       "      <th>ListDays</th>\n",
       "      <th>ListCount</th>\n",
       "      <th>ListActive</th>\n",
       "      <th>AbsorptionRate</th>\n",
       "      <th>RentCount</th>\n",
       "      <th>RentListingCount</th>\n",
       "    </tr>\n",
       "  </thead>\n",
       "  <tbody>\n",
       "    <tr>\n",
       "      <th>count</th>\n",
       "      <td>510920.000000</td>\n",
       "      <td>510920.000000</td>\n",
       "      <td>5.109200e+05</td>\n",
       "      <td>510920.000000</td>\n",
       "      <td>510920.000000</td>\n",
       "      <td>510920.000000</td>\n",
       "      <td>510920.000000</td>\n",
       "      <td>510920.000000</td>\n",
       "      <td>510920.000000</td>\n",
       "    </tr>\n",
       "    <tr>\n",
       "      <th>mean</th>\n",
       "      <td>10360.805269</td>\n",
       "      <td>19.478550</td>\n",
       "      <td>6.539088e+05</td>\n",
       "      <td>26.225971</td>\n",
       "      <td>33.420473</td>\n",
       "      <td>39.232132</td>\n",
       "      <td>84.965163</td>\n",
       "      <td>10.063842</td>\n",
       "      <td>14.954758</td>\n",
       "    </tr>\n",
       "    <tr>\n",
       "      <th>std</th>\n",
       "      <td>2072.972322</td>\n",
       "      <td>176.850634</td>\n",
       "      <td>3.940840e+05</td>\n",
       "      <td>18.341869</td>\n",
       "      <td>313.689522</td>\n",
       "      <td>361.040522</td>\n",
       "      <td>91.460658</td>\n",
       "      <td>127.150108</td>\n",
       "      <td>184.402739</td>\n",
       "    </tr>\n",
       "    <tr>\n",
       "      <th>min</th>\n",
       "      <td>1001.000000</td>\n",
       "      <td>0.000000</td>\n",
       "      <td>0.000000e+00</td>\n",
       "      <td>0.000000</td>\n",
       "      <td>0.000000</td>\n",
       "      <td>0.000000</td>\n",
       "      <td>0.000000</td>\n",
       "      <td>0.000000</td>\n",
       "      <td>0.000000</td>\n",
       "    </tr>\n",
       "    <tr>\n",
       "      <th>25%</th>\n",
       "      <td>10130.000000</td>\n",
       "      <td>2.000000</td>\n",
       "      <td>3.865952e+05</td>\n",
       "      <td>15.000000</td>\n",
       "      <td>3.000000</td>\n",
       "      <td>3.000000</td>\n",
       "      <td>33.300000</td>\n",
       "      <td>0.000000</td>\n",
       "      <td>0.000000</td>\n",
       "    </tr>\n",
       "    <tr>\n",
       "      <th>50%</th>\n",
       "      <td>10205.000000</td>\n",
       "      <td>4.000000</td>\n",
       "      <td>5.693175e+05</td>\n",
       "      <td>22.000000</td>\n",
       "      <td>7.000000</td>\n",
       "      <td>8.000000</td>\n",
       "      <td>58.300000</td>\n",
       "      <td>1.000000</td>\n",
       "      <td>1.000000</td>\n",
       "    </tr>\n",
       "    <tr>\n",
       "      <th>75%</th>\n",
       "      <td>10290.000000</td>\n",
       "      <td>11.000000</td>\n",
       "      <td>8.056812e+05</td>\n",
       "      <td>32.000000</td>\n",
       "      <td>18.000000</td>\n",
       "      <td>20.000000</td>\n",
       "      <td>100.000000</td>\n",
       "      <td>3.000000</td>\n",
       "      <td>5.000000</td>\n",
       "    </tr>\n",
       "    <tr>\n",
       "      <th>max</th>\n",
       "      <td>76750.000000</td>\n",
       "      <td>15339.000000</td>\n",
       "      <td>6.100000e+06</td>\n",
       "      <td>705.000000</td>\n",
       "      <td>26023.000000</td>\n",
       "      <td>27387.000000</td>\n",
       "      <td>4300.000000</td>\n",
       "      <td>10982.000000</td>\n",
       "      <td>15560.000000</td>\n",
       "    </tr>\n",
       "  </tbody>\n",
       "</table>\n",
       "</div>"
      ],
      "text/plain": [
       "       MunicipalityID      SoldCount     PriceSold       ListDays  \\\n",
       "count   510920.000000  510920.000000  5.109200e+05  510920.000000   \n",
       "mean     10360.805269      19.478550  6.539088e+05      26.225971   \n",
       "std       2072.972322     176.850634  3.940840e+05      18.341869   \n",
       "min       1001.000000       0.000000  0.000000e+00       0.000000   \n",
       "25%      10130.000000       2.000000  3.865952e+05      15.000000   \n",
       "50%      10205.000000       4.000000  5.693175e+05      22.000000   \n",
       "75%      10290.000000      11.000000  8.056812e+05      32.000000   \n",
       "max      76750.000000   15339.000000  6.100000e+06     705.000000   \n",
       "\n",
       "           ListCount     ListActive  AbsorptionRate      RentCount  \\\n",
       "count  510920.000000  510920.000000   510920.000000  510920.000000   \n",
       "mean       33.420473      39.232132       84.965163      10.063842   \n",
       "std       313.689522     361.040522       91.460658     127.150108   \n",
       "min         0.000000       0.000000        0.000000       0.000000   \n",
       "25%         3.000000       3.000000       33.300000       0.000000   \n",
       "50%         7.000000       8.000000       58.300000       1.000000   \n",
       "75%        18.000000      20.000000      100.000000       3.000000   \n",
       "max     26023.000000   27387.000000     4300.000000   10982.000000   \n",
       "\n",
       "       RentListingCount  \n",
       "count     510920.000000  \n",
       "mean          14.954758  \n",
       "std          184.402739  \n",
       "min            0.000000  \n",
       "25%            0.000000  \n",
       "50%            1.000000  \n",
       "75%            5.000000  \n",
       "max        15560.000000  "
      ]
     },
     "execution_count": 6,
     "metadata": {},
     "output_type": "execute_result"
    }
   ],
   "source": [
    "housing_ontario.describe()"
   ]
  },
  {
   "cell_type": "code",
   "execution_count": 7,
   "metadata": {},
   "outputs": [
    {
     "name": "stdout",
     "output_type": "stream",
     "text": [
      "<class 'pandas.core.frame.DataFrame'>\n",
      "RangeIndex: 510920 entries, 0 to 510919\n",
      "Data columns (total 18 columns):\n",
      " #   Column              Non-Null Count   Dtype  \n",
      "---  ------              --------------   -----  \n",
      " 0   Community_id        510920 non-null  object \n",
      " 1   CommunityName       510920 non-null  object \n",
      " 2   HouseType           510920 non-null  object \n",
      " 3   HouseTypeName       510920 non-null  object \n",
      " 4   MunicipalityID      510920 non-null  int64  \n",
      " 5   MunicipalityName    510920 non-null  object \n",
      " 6   Period              510920 non-null  object \n",
      " 7   SoldCount           510920 non-null  int64  \n",
      " 8   PriceSold           510920 non-null  int64  \n",
      " 9   ListDays            510920 non-null  int64  \n",
      " 10  ListCount           510920 non-null  int64  \n",
      " 11  ListActive          510920 non-null  int64  \n",
      " 12  AbsorptionRate      510920 non-null  float64\n",
      " 13  RentRatio           510920 non-null  object \n",
      " 14  RentCount           510920 non-null  int64  \n",
      " 15  PriceRent           510920 non-null  object \n",
      " 16  RentListingCount    510920 non-null  int64  \n",
      " 17  PropertyListingDOM  510920 non-null  object \n",
      "dtypes: float64(1), int64(8), object(9)\n",
      "memory usage: 70.2+ MB\n"
     ]
    }
   ],
   "source": [
    "housing_ontario.info() "
   ]
  },
  {
   "cell_type": "markdown",
   "metadata": {},
   "source": [
    "Data Cleaning"
   ]
  },
  {
   "cell_type": "code",
   "execution_count": 8,
   "metadata": {},
   "outputs": [
    {
     "data": {
      "text/plain": [
       "Community_id          0\n",
       "CommunityName         0\n",
       "HouseType             0\n",
       "HouseTypeName         0\n",
       "MunicipalityID        0\n",
       "MunicipalityName      0\n",
       "Period                0\n",
       "SoldCount             0\n",
       "PriceSold             0\n",
       "ListDays              0\n",
       "ListCount             0\n",
       "ListActive            0\n",
       "AbsorptionRate        0\n",
       "RentRatio             0\n",
       "RentCount             0\n",
       "PriceRent             0\n",
       "RentListingCount      0\n",
       "PropertyListingDOM    0\n",
       "dtype: int64"
      ]
     },
     "execution_count": 8,
     "metadata": {},
     "output_type": "execute_result"
    }
   ],
   "source": [
    "#Finding if there are any null values in the dataframe\n",
    "housing_ontario.isnull().sum()"
   ]
  },
  {
   "cell_type": "code",
   "execution_count": 9,
   "metadata": {},
   "outputs": [
    {
     "data": {
      "text/plain": [
       "0         False\n",
       "1         False\n",
       "2         False\n",
       "3         False\n",
       "4         False\n",
       "          ...  \n",
       "510915    False\n",
       "510916    False\n",
       "510917    False\n",
       "510918    False\n",
       "510919    False\n",
       "Length: 510920, dtype: bool"
      ]
     },
     "execution_count": 9,
     "metadata": {},
     "output_type": "execute_result"
    }
   ],
   "source": [
    "#Finding if there are any duplicate values in Dataframe\n",
    "housing_ontario.duplicated()"
   ]
  },
  {
   "cell_type": "code",
   "execution_count": 10,
   "metadata": {},
   "outputs": [
    {
     "data": {
      "text/html": [
       "<div>\n",
       "<style scoped>\n",
       "    .dataframe tbody tr th:only-of-type {\n",
       "        vertical-align: middle;\n",
       "    }\n",
       "\n",
       "    .dataframe tbody tr th {\n",
       "        vertical-align: top;\n",
       "    }\n",
       "\n",
       "    .dataframe thead th {\n",
       "        text-align: right;\n",
       "    }\n",
       "</style>\n",
       "<table border=\"1\" class=\"dataframe\">\n",
       "  <thead>\n",
       "    <tr style=\"text-align: right;\">\n",
       "      <th></th>\n",
       "      <th>Community_id</th>\n",
       "      <th>CommunityName</th>\n",
       "      <th>MunicipalityName</th>\n",
       "      <th>Period</th>\n",
       "      <th>SoldCount</th>\n",
       "      <th>PriceSold</th>\n",
       "      <th>ListDays</th>\n",
       "      <th>ListCount</th>\n",
       "      <th>ListActive</th>\n",
       "      <th>AbsorptionRate</th>\n",
       "      <th>PropertyListingDOM</th>\n",
       "    </tr>\n",
       "  </thead>\n",
       "  <tbody>\n",
       "    <tr>\n",
       "      <th>0</th>\n",
       "      <td>5813</td>\n",
       "      <td>Carson Meadows</td>\n",
       "      <td>Ottawa</td>\n",
       "      <td>2019-08</td>\n",
       "      <td>2</td>\n",
       "      <td>558000</td>\n",
       "      <td>27</td>\n",
       "      <td>1</td>\n",
       "      <td>1</td>\n",
       "      <td>100.0</td>\n",
       "      <td>27</td>\n",
       "    </tr>\n",
       "    <tr>\n",
       "      <th>1</th>\n",
       "      <td>5813</td>\n",
       "      <td>Carson Meadows</td>\n",
       "      <td>Ottawa</td>\n",
       "      <td>2019-09</td>\n",
       "      <td>0</td>\n",
       "      <td>558000</td>\n",
       "      <td>27</td>\n",
       "      <td>1</td>\n",
       "      <td>2</td>\n",
       "      <td>50.0</td>\n",
       "      <td>27</td>\n",
       "    </tr>\n",
       "    <tr>\n",
       "      <th>2</th>\n",
       "      <td>5813</td>\n",
       "      <td>Carson Meadows</td>\n",
       "      <td>Ottawa</td>\n",
       "      <td>2019-10</td>\n",
       "      <td>2</td>\n",
       "      <td>634643</td>\n",
       "      <td>32</td>\n",
       "      <td>1</td>\n",
       "      <td>1</td>\n",
       "      <td>83.3</td>\n",
       "      <td>32</td>\n",
       "    </tr>\n",
       "    <tr>\n",
       "      <th>3</th>\n",
       "      <td>5813</td>\n",
       "      <td>Carson Meadows</td>\n",
       "      <td>Ottawa</td>\n",
       "      <td>2019-12</td>\n",
       "      <td>1</td>\n",
       "      <td>656667</td>\n",
       "      <td>44</td>\n",
       "      <td>0</td>\n",
       "      <td>0</td>\n",
       "      <td>100.0</td>\n",
       "      <td>44</td>\n",
       "    </tr>\n",
       "    <tr>\n",
       "      <th>4</th>\n",
       "      <td>5813</td>\n",
       "      <td>Carson Meadows</td>\n",
       "      <td>Ottawa</td>\n",
       "      <td>2020-02</td>\n",
       "      <td>1</td>\n",
       "      <td>655084</td>\n",
       "      <td>43</td>\n",
       "      <td>1</td>\n",
       "      <td>0</td>\n",
       "      <td>0.0</td>\n",
       "      <td>43</td>\n",
       "    </tr>\n",
       "  </tbody>\n",
       "</table>\n",
       "</div>"
      ],
      "text/plain": [
       "  Community_id   CommunityName MunicipalityName   Period  SoldCount  \\\n",
       "0         5813  Carson Meadows           Ottawa  2019-08          2   \n",
       "1         5813  Carson Meadows           Ottawa  2019-09          0   \n",
       "2         5813  Carson Meadows           Ottawa  2019-10          2   \n",
       "3         5813  Carson Meadows           Ottawa  2019-12          1   \n",
       "4         5813  Carson Meadows           Ottawa  2020-02          1   \n",
       "\n",
       "   PriceSold  ListDays  ListCount  ListActive  AbsorptionRate  \\\n",
       "0     558000        27          1           1           100.0   \n",
       "1     558000        27          1           2            50.0   \n",
       "2     634643        32          1           1            83.3   \n",
       "3     656667        44          0           0           100.0   \n",
       "4     655084        43          1           0             0.0   \n",
       "\n",
       "  PropertyListingDOM  \n",
       "0                 27  \n",
       "1                 27  \n",
       "2                 32  \n",
       "3                 44  \n",
       "4                 43  "
      ]
     },
     "execution_count": 10,
     "metadata": {},
     "output_type": "execute_result"
    }
   ],
   "source": [
    "# Removing unnecessory columns for better visuals during analysis\n",
    "housing_ontario.drop(columns = ['HouseType', 'HouseTypeName', 'MunicipalityID', 'RentRatio', 'RentCount', 'PriceRent', 'RentListingCount', 'RentListingCount'], inplace=True)\n",
    "housing_ontario.head()"
   ]
  },
  {
   "cell_type": "code",
   "execution_count": 11,
   "metadata": {},
   "outputs": [],
   "source": [
    "#changing the DataType of the column 'Period'\n",
    "housing_ontario['Year'] = pd.to_datetime(housing_ontario['Period']).dt.year"
   ]
  },
  {
   "cell_type": "markdown",
   "metadata": {},
   "source": [
    "Data Analysis"
   ]
  },
  {
   "cell_type": "code",
   "execution_count": 12,
   "metadata": {},
   "outputs": [
    {
     "data": {
      "text/html": [
       "<div>\n",
       "<style scoped>\n",
       "    .dataframe tbody tr th:only-of-type {\n",
       "        vertical-align: middle;\n",
       "    }\n",
       "\n",
       "    .dataframe tbody tr th {\n",
       "        vertical-align: top;\n",
       "    }\n",
       "\n",
       "    .dataframe thead th {\n",
       "        text-align: right;\n",
       "    }\n",
       "</style>\n",
       "<table border=\"1\" class=\"dataframe\">\n",
       "  <thead>\n",
       "    <tr style=\"text-align: right;\">\n",
       "      <th></th>\n",
       "      <th>MunicipalityName</th>\n",
       "      <th>Year</th>\n",
       "      <th>AveragePriceSold</th>\n",
       "    </tr>\n",
       "  </thead>\n",
       "  <tbody>\n",
       "    <tr>\n",
       "      <th>0</th>\n",
       "      <td>Ajax</td>\n",
       "      <td>2009</td>\n",
       "      <td>276649.464789</td>\n",
       "    </tr>\n",
       "    <tr>\n",
       "      <th>1</th>\n",
       "      <td>Ajax</td>\n",
       "      <td>2010</td>\n",
       "      <td>290635.278652</td>\n",
       "    </tr>\n",
       "    <tr>\n",
       "      <th>2</th>\n",
       "      <td>Ajax</td>\n",
       "      <td>2011</td>\n",
       "      <td>299371.692825</td>\n",
       "    </tr>\n",
       "    <tr>\n",
       "      <th>3</th>\n",
       "      <td>Ajax</td>\n",
       "      <td>2012</td>\n",
       "      <td>315012.902439</td>\n",
       "    </tr>\n",
       "    <tr>\n",
       "      <th>4</th>\n",
       "      <td>Ajax</td>\n",
       "      <td>2013</td>\n",
       "      <td>338307.621560</td>\n",
       "    </tr>\n",
       "  </tbody>\n",
       "</table>\n",
       "</div>"
      ],
      "text/plain": [
       "  MunicipalityName  Year  AveragePriceSold\n",
       "0             Ajax  2009     276649.464789\n",
       "1             Ajax  2010     290635.278652\n",
       "2             Ajax  2011     299371.692825\n",
       "3             Ajax  2012     315012.902439\n",
       "4             Ajax  2013     338307.621560"
      ]
     },
     "execution_count": 12,
     "metadata": {},
     "output_type": "execute_result"
    }
   ],
   "source": [
    "#Finding Average sold price of the house by Year\n",
    "avg_price_by_year = housing_ontario.groupby(['MunicipalityName', 'Year'])['PriceSold'].mean().reset_index()\n",
    "avg_price_by_year.columns = ['MunicipalityName', 'Year', 'AveragePriceSold']\n",
    "avg_price_by_year.head()"
   ]
  },
  {
   "cell_type": "code",
   "execution_count": 13,
   "metadata": {},
   "outputs": [
    {
     "data": {
      "text/html": [
       "<div>\n",
       "<style scoped>\n",
       "    .dataframe tbody tr th:only-of-type {\n",
       "        vertical-align: middle;\n",
       "    }\n",
       "\n",
       "    .dataframe tbody tr th {\n",
       "        vertical-align: top;\n",
       "    }\n",
       "\n",
       "    .dataframe thead th {\n",
       "        text-align: right;\n",
       "    }\n",
       "</style>\n",
       "<table border=\"1\" class=\"dataframe\">\n",
       "  <thead>\n",
       "    <tr style=\"text-align: right;\">\n",
       "      <th></th>\n",
       "      <th>MunicipalityName</th>\n",
       "      <th>Year</th>\n",
       "      <th>AveragePriceSold</th>\n",
       "    </tr>\n",
       "  </thead>\n",
       "  <tbody>\n",
       "    <tr>\n",
       "      <th>1</th>\n",
       "      <td>Ajax</td>\n",
       "      <td>2010</td>\n",
       "      <td>290635.278652</td>\n",
       "    </tr>\n",
       "    <tr>\n",
       "      <th>2</th>\n",
       "      <td>Ajax</td>\n",
       "      <td>2011</td>\n",
       "      <td>299371.692825</td>\n",
       "    </tr>\n",
       "    <tr>\n",
       "      <th>3</th>\n",
       "      <td>Ajax</td>\n",
       "      <td>2012</td>\n",
       "      <td>315012.902439</td>\n",
       "    </tr>\n",
       "    <tr>\n",
       "      <th>4</th>\n",
       "      <td>Ajax</td>\n",
       "      <td>2013</td>\n",
       "      <td>338307.621560</td>\n",
       "    </tr>\n",
       "    <tr>\n",
       "      <th>5</th>\n",
       "      <td>Ajax</td>\n",
       "      <td>2014</td>\n",
       "      <td>370802.406467</td>\n",
       "    </tr>\n",
       "  </tbody>\n",
       "</table>\n",
       "</div>"
      ],
      "text/plain": [
       "  MunicipalityName  Year  AveragePriceSold\n",
       "1             Ajax  2010     290635.278652\n",
       "2             Ajax  2011     299371.692825\n",
       "3             Ajax  2012     315012.902439\n",
       "4             Ajax  2013     338307.621560\n",
       "5             Ajax  2014     370802.406467"
      ]
     },
     "execution_count": 13,
     "metadata": {},
     "output_type": "execute_result"
    }
   ],
   "source": [
    "# Specify the years to remove\n",
    "years_to_remove = [2009, 2024]\n",
    "\n",
    "# Remove rows for the specified years\n",
    "avg_price_by_year = avg_price_by_year[~avg_price_by_year['Year'].isin(years_to_remove)]\n",
    "\n",
    "\n",
    "avg_price_by_year.head()"
   ]
  },
  {
   "cell_type": "code",
   "execution_count": 14,
   "metadata": {},
   "outputs": [
    {
     "data": {
      "text/html": [
       "<div>\n",
       "<style scoped>\n",
       "    .dataframe tbody tr th:only-of-type {\n",
       "        vertical-align: middle;\n",
       "    }\n",
       "\n",
       "    .dataframe tbody tr th {\n",
       "        vertical-align: top;\n",
       "    }\n",
       "\n",
       "    .dataframe thead th {\n",
       "        text-align: right;\n",
       "    }\n",
       "</style>\n",
       "<table border=\"1\" class=\"dataframe\">\n",
       "  <thead>\n",
       "    <tr style=\"text-align: right;\">\n",
       "      <th></th>\n",
       "      <th>MunicipalityName</th>\n",
       "      <th>AveragePriceSold</th>\n",
       "    </tr>\n",
       "  </thead>\n",
       "  <tbody>\n",
       "    <tr>\n",
       "      <th>0</th>\n",
       "      <td>Ajax</td>\n",
       "      <td>0.55</td>\n",
       "    </tr>\n",
       "    <tr>\n",
       "      <th>1</th>\n",
       "      <td>All GTA</td>\n",
       "      <td>0.62</td>\n",
       "    </tr>\n",
       "    <tr>\n",
       "      <th>2</th>\n",
       "      <td>Ancaster</td>\n",
       "      <td>0.65</td>\n",
       "    </tr>\n",
       "    <tr>\n",
       "      <th>3</th>\n",
       "      <td>Aurora</td>\n",
       "      <td>0.82</td>\n",
       "    </tr>\n",
       "    <tr>\n",
       "      <th>4</th>\n",
       "      <td>Barrie</td>\n",
       "      <td>0.42</td>\n",
       "    </tr>\n",
       "  </tbody>\n",
       "</table>\n",
       "</div>"
      ],
      "text/plain": [
       "  MunicipalityName  AveragePriceSold\n",
       "0             Ajax              0.55\n",
       "1          All GTA              0.62\n",
       "2         Ancaster              0.65\n",
       "3           Aurora              0.82\n",
       "4           Barrie              0.42"
      ]
     },
     "execution_count": 14,
     "metadata": {},
     "output_type": "execute_result"
    }
   ],
   "source": [
    "max_avg_price_by_year = avg_price_by_year.groupby('MunicipalityName')['AveragePriceSold'].mean().reset_index()\n",
    "max_avg_price_by_year['AveragePriceSold'] = (max_avg_price_by_year['AveragePriceSold'] / 1_000_000).round(2)\n",
    "\n",
    "max_avg_price_by_year.head()"
   ]
  },
  {
   "cell_type": "code",
   "execution_count": 15,
   "metadata": {},
   "outputs": [
    {
     "data": {
      "application/vnd.plotly.v1+json": {
       "config": {
        "plotlyServerURL": "https://plot.ly"
       },
       "data": [
        {
         "branchvalues": "total",
         "customdata": [
          [
           0.55,
           0.55
          ],
          [
           0.62,
           0.62
          ],
          [
           0.65,
           0.65
          ],
          [
           0.82,
           0.82
          ],
          [
           0.41999999999999993,
           0.41999999999999993
          ],
          [
           0.33,
           0.33
          ],
          [
           0.59,
           0.59
          ],
          [
           0.6,
           0.6
          ],
          [
           0.36,
           0.36
          ],
          [
           0.44,
           0.44
          ],
          [
           0.62,
           0.62
          ],
          [
           0.7699999999999999,
           0.7699999999999999
          ],
          [
           0.41999999999999993,
           0.41999999999999993
          ],
          [
           0.41,
           0.41
          ],
          [
           0.46,
           0.46
          ],
          [
           0.42999999999999994,
           0.42999999999999994
          ],
          [
           0.4000000000000001,
           0.4000000000000001
          ],
          [
           0.54,
           0.54
          ],
          [
           0.74,
           0.74
          ],
          [
           0.69,
           0.69
          ],
          [
           0.66,
           0.66
          ],
          [
           0.41,
           0.41
          ],
          [
           0.49,
           0.49
          ],
          [
           0.51,
           0.51
          ],
          [
           0.49,
           0.49
          ],
          [
           0.48,
           0.48
          ],
          [
           0.65,
           0.65
          ],
          [
           0.41,
           0.41
          ],
          [
           0.52,
           0.52
          ],
          [
           0.42999999999999994,
           0.42999999999999994
          ],
          [
           0.41999999999999993,
           0.41999999999999993
          ],
          [
           1.05,
           1.05
          ],
          [
           0.41,
           0.41
          ],
          [
           0.41999999999999993,
           0.41999999999999993
          ],
          [
           0.48,
           0.48
          ],
          [
           0.35,
           0.35
          ],
          [
           0.91,
           0.91
          ],
          [
           0.69,
           0.69
          ],
          [
           0.66,
           0.66
          ],
          [
           0.41,
           0.41
          ],
          [
           0.49,
           0.49
          ],
          [
           0.67,
           0.67
          ],
          [
           0.34,
           0.34
          ],
          [
           0.41999999999999993,
           0.41999999999999993
          ],
          [
           0.76,
           0.76
          ],
          [
           0.8000000000000002,
           0.8000000000000002
          ],
          [
           0.39,
           0.39
          ],
          [
           0.56,
           0.56
          ],
          [
           0.45,
           0.45
          ],
          [
           0.46,
           0.46
          ],
          [
           0.37,
           0.37
          ],
          [
           0.62,
           0.62
          ],
          [
           0.34,
           0.34
          ],
          [
           0.89,
           0.89
          ],
          [
           0.56,
           0.56
          ],
          [
           0.39,
           0.39
          ],
          [
           0.58,
           0.58
          ],
          [
           0.54,
           0.54
          ],
          [
           0.35,
           0.35
          ],
          [
           0.44,
           0.44
          ],
          [
           0.49,
           0.49
          ],
          [
           0.38,
           0.38
          ],
          [
           0.91,
           0.91
          ],
          [
           0.63,
           0.63
          ],
          [
           0.8000000000000002,
           0.8000000000000002
          ],
          [
           0.42999999999999994,
           0.42999999999999994
          ],
          [
           0.33,
           0.33
          ],
          [
           0.45,
           0.45
          ],
          [
           0.56,
           0.56
          ],
          [
           0.79,
           0.79
          ],
          [
           0.35,
           0.35
          ]
         ],
         "domain": {
          "x": [
           0,
           1
          ],
          "y": [
           0,
           1
          ]
         },
         "hovertemplate": "labels=%{label}<br>AveragePriceSold_sum=%{value}<br>parent=%{parent}<br>id=%{id}<br>AveragePriceSold=%{color}<extra></extra>",
         "ids": [
          "Ajax",
          "All GTA",
          "Ancaster",
          "Aurora",
          "Barrie",
          "Belleville",
          "Bradford West Gwillimbury",
          "Brampton",
          "Brantford",
          "Brock",
          "Burlington",
          "Caledon",
          "Cambridge",
          "Clarance-Rockland",
          "Clarington",
          "Collingwood",
          "Cumberland",
          "Dundas",
          "East Gwillimbury",
          "Etobicoke",
          "Flamborough",
          "Fort Erie",
          "Georgina",
          "Glanbrook",
          "Grimsby",
          "Guelph",
          "Halton Hills",
          "Hamilton",
          "Innisfil",
          "Kanata",
          "Kawartha Lakes",
          "King",
          "Kingston",
          "Kitchener",
          "Lincoln",
          "London",
          "Markham",
          "Milton",
          "Mississauga",
          "Nepean",
          "New Tecumseth",
          "Newmarket",
          "Niagara Falls",
          "Norfolk",
          "North York",
          "Oakville",
          "Orleans-Gloucester",
          "Osgoode",
          "Oshawa",
          "Ottawa",
          "Peterborough",
          "Pickering",
          "Port Colborne",
          "Richmond Hill",
          "Rideau",
          "Russell",
          "Scarborough",
          "Scugog",
          "St. Catharines",
          "Stittsville-Goulbourn",
          "Stoney Creek",
          "Thorold",
          "Toronto",
          "Uxbridge",
          "Vaughan",
          "Waterloo",
          "Welland",
          "West Carleton Twp",
          "Whitby",
          "Whitchurch-Stouffville",
          "Woodstock"
         ],
         "labels": [
          "Ajax",
          "All GTA",
          "Ancaster",
          "Aurora",
          "Barrie",
          "Belleville",
          "Bradford West Gwillimbury",
          "Brampton",
          "Brantford",
          "Brock",
          "Burlington",
          "Caledon",
          "Cambridge",
          "Clarance-Rockland",
          "Clarington",
          "Collingwood",
          "Cumberland",
          "Dundas",
          "East Gwillimbury",
          "Etobicoke",
          "Flamborough",
          "Fort Erie",
          "Georgina",
          "Glanbrook",
          "Grimsby",
          "Guelph",
          "Halton Hills",
          "Hamilton",
          "Innisfil",
          "Kanata",
          "Kawartha Lakes",
          "King",
          "Kingston",
          "Kitchener",
          "Lincoln",
          "London",
          "Markham",
          "Milton",
          "Mississauga",
          "Nepean",
          "New Tecumseth",
          "Newmarket",
          "Niagara Falls",
          "Norfolk",
          "North York",
          "Oakville",
          "Orleans-Gloucester",
          "Osgoode",
          "Oshawa",
          "Ottawa",
          "Peterborough",
          "Pickering",
          "Port Colborne",
          "Richmond Hill",
          "Rideau",
          "Russell",
          "Scarborough",
          "Scugog",
          "St. Catharines",
          "Stittsville-Goulbourn",
          "Stoney Creek",
          "Thorold",
          "Toronto",
          "Uxbridge",
          "Vaughan",
          "Waterloo",
          "Welland",
          "West Carleton Twp",
          "Whitby",
          "Whitchurch-Stouffville",
          "Woodstock"
         ],
         "marker": {
          "coloraxis": "coloraxis",
          "colors": [
           0.55,
           0.62,
           0.65,
           0.82,
           0.41999999999999993,
           0.33,
           0.59,
           0.6,
           0.36,
           0.44,
           0.62,
           0.7699999999999999,
           0.41999999999999993,
           0.41,
           0.46,
           0.42999999999999994,
           0.4000000000000001,
           0.54,
           0.74,
           0.69,
           0.66,
           0.41,
           0.49,
           0.51,
           0.49,
           0.48,
           0.65,
           0.41,
           0.52,
           0.42999999999999994,
           0.41999999999999993,
           1.05,
           0.41,
           0.41999999999999993,
           0.48,
           0.35,
           0.91,
           0.69,
           0.66,
           0.41,
           0.49,
           0.67,
           0.34,
           0.41999999999999993,
           0.76,
           0.8000000000000002,
           0.39,
           0.56,
           0.45,
           0.46,
           0.37,
           0.62,
           0.34,
           0.89,
           0.56,
           0.39,
           0.58,
           0.54,
           0.35,
           0.44,
           0.49,
           0.38,
           0.91,
           0.63,
           0.8000000000000002,
           0.42999999999999994,
           0.33,
           0.45,
           0.56,
           0.79,
           0.35
          ]
         },
         "name": "",
         "parents": [
          "",
          "",
          "",
          "",
          "",
          "",
          "",
          "",
          "",
          "",
          "",
          "",
          "",
          "",
          "",
          "",
          "",
          "",
          "",
          "",
          "",
          "",
          "",
          "",
          "",
          "",
          "",
          "",
          "",
          "",
          "",
          "",
          "",
          "",
          "",
          "",
          "",
          "",
          "",
          "",
          "",
          "",
          "",
          "",
          "",
          "",
          "",
          "",
          "",
          "",
          "",
          "",
          "",
          "",
          "",
          "",
          "",
          "",
          "",
          "",
          "",
          "",
          "",
          "",
          "",
          "",
          "",
          "",
          "",
          "",
          ""
         ],
         "type": "treemap",
         "values": [
          0.55,
          0.62,
          0.65,
          0.82,
          0.42,
          0.33,
          0.59,
          0.6,
          0.36,
          0.44,
          0.62,
          0.77,
          0.42,
          0.41,
          0.46,
          0.43,
          0.4,
          0.54,
          0.74,
          0.69,
          0.66,
          0.41,
          0.49,
          0.51,
          0.49,
          0.48,
          0.65,
          0.41,
          0.52,
          0.43,
          0.42,
          1.05,
          0.41,
          0.42,
          0.48,
          0.35,
          0.91,
          0.69,
          0.66,
          0.41,
          0.49,
          0.67,
          0.34,
          0.42,
          0.76,
          0.8,
          0.39,
          0.56,
          0.45,
          0.46,
          0.37,
          0.62,
          0.34,
          0.89,
          0.56,
          0.39,
          0.58,
          0.54,
          0.35,
          0.44,
          0.49,
          0.38,
          0.91,
          0.63,
          0.8,
          0.43,
          0.33,
          0.45,
          0.56,
          0.79,
          0.35
         ]
        }
       ],
       "layout": {
        "coloraxis": {
         "colorbar": {
          "title": {
           "text": "AveragePriceSold"
          }
         },
         "colorscale": [
          [
           0,
           "rgb(103,0,31)"
          ],
          [
           0.1,
           "rgb(178,24,43)"
          ],
          [
           0.2,
           "rgb(214,96,77)"
          ],
          [
           0.3,
           "rgb(244,165,130)"
          ],
          [
           0.4,
           "rgb(253,219,199)"
          ],
          [
           0.5,
           "rgb(247,247,247)"
          ],
          [
           0.6,
           "rgb(209,229,240)"
          ],
          [
           0.7,
           "rgb(146,197,222)"
          ],
          [
           0.8,
           "rgb(67,147,195)"
          ],
          [
           0.9,
           "rgb(33,102,172)"
          ],
          [
           1,
           "rgb(5,48,97)"
          ]
         ]
        },
        "legend": {
         "tracegroupgap": 0
        },
        "template": {
         "data": {
          "bar": [
           {
            "error_x": {
             "color": "#2a3f5f"
            },
            "error_y": {
             "color": "#2a3f5f"
            },
            "marker": {
             "line": {
              "color": "#E5ECF6",
              "width": 0.5
             },
             "pattern": {
              "fillmode": "overlay",
              "size": 10,
              "solidity": 0.2
             }
            },
            "type": "bar"
           }
          ],
          "barpolar": [
           {
            "marker": {
             "line": {
              "color": "#E5ECF6",
              "width": 0.5
             },
             "pattern": {
              "fillmode": "overlay",
              "size": 10,
              "solidity": 0.2
             }
            },
            "type": "barpolar"
           }
          ],
          "carpet": [
           {
            "aaxis": {
             "endlinecolor": "#2a3f5f",
             "gridcolor": "white",
             "linecolor": "white",
             "minorgridcolor": "white",
             "startlinecolor": "#2a3f5f"
            },
            "baxis": {
             "endlinecolor": "#2a3f5f",
             "gridcolor": "white",
             "linecolor": "white",
             "minorgridcolor": "white",
             "startlinecolor": "#2a3f5f"
            },
            "type": "carpet"
           }
          ],
          "choropleth": [
           {
            "colorbar": {
             "outlinewidth": 0,
             "ticks": ""
            },
            "type": "choropleth"
           }
          ],
          "contour": [
           {
            "colorbar": {
             "outlinewidth": 0,
             "ticks": ""
            },
            "colorscale": [
             [
              0,
              "#0d0887"
             ],
             [
              0.1111111111111111,
              "#46039f"
             ],
             [
              0.2222222222222222,
              "#7201a8"
             ],
             [
              0.3333333333333333,
              "#9c179e"
             ],
             [
              0.4444444444444444,
              "#bd3786"
             ],
             [
              0.5555555555555556,
              "#d8576b"
             ],
             [
              0.6666666666666666,
              "#ed7953"
             ],
             [
              0.7777777777777778,
              "#fb9f3a"
             ],
             [
              0.8888888888888888,
              "#fdca26"
             ],
             [
              1,
              "#f0f921"
             ]
            ],
            "type": "contour"
           }
          ],
          "contourcarpet": [
           {
            "colorbar": {
             "outlinewidth": 0,
             "ticks": ""
            },
            "type": "contourcarpet"
           }
          ],
          "heatmap": [
           {
            "colorbar": {
             "outlinewidth": 0,
             "ticks": ""
            },
            "colorscale": [
             [
              0,
              "#0d0887"
             ],
             [
              0.1111111111111111,
              "#46039f"
             ],
             [
              0.2222222222222222,
              "#7201a8"
             ],
             [
              0.3333333333333333,
              "#9c179e"
             ],
             [
              0.4444444444444444,
              "#bd3786"
             ],
             [
              0.5555555555555556,
              "#d8576b"
             ],
             [
              0.6666666666666666,
              "#ed7953"
             ],
             [
              0.7777777777777778,
              "#fb9f3a"
             ],
             [
              0.8888888888888888,
              "#fdca26"
             ],
             [
              1,
              "#f0f921"
             ]
            ],
            "type": "heatmap"
           }
          ],
          "heatmapgl": [
           {
            "colorbar": {
             "outlinewidth": 0,
             "ticks": ""
            },
            "colorscale": [
             [
              0,
              "#0d0887"
             ],
             [
              0.1111111111111111,
              "#46039f"
             ],
             [
              0.2222222222222222,
              "#7201a8"
             ],
             [
              0.3333333333333333,
              "#9c179e"
             ],
             [
              0.4444444444444444,
              "#bd3786"
             ],
             [
              0.5555555555555556,
              "#d8576b"
             ],
             [
              0.6666666666666666,
              "#ed7953"
             ],
             [
              0.7777777777777778,
              "#fb9f3a"
             ],
             [
              0.8888888888888888,
              "#fdca26"
             ],
             [
              1,
              "#f0f921"
             ]
            ],
            "type": "heatmapgl"
           }
          ],
          "histogram": [
           {
            "marker": {
             "pattern": {
              "fillmode": "overlay",
              "size": 10,
              "solidity": 0.2
             }
            },
            "type": "histogram"
           }
          ],
          "histogram2d": [
           {
            "colorbar": {
             "outlinewidth": 0,
             "ticks": ""
            },
            "colorscale": [
             [
              0,
              "#0d0887"
             ],
             [
              0.1111111111111111,
              "#46039f"
             ],
             [
              0.2222222222222222,
              "#7201a8"
             ],
             [
              0.3333333333333333,
              "#9c179e"
             ],
             [
              0.4444444444444444,
              "#bd3786"
             ],
             [
              0.5555555555555556,
              "#d8576b"
             ],
             [
              0.6666666666666666,
              "#ed7953"
             ],
             [
              0.7777777777777778,
              "#fb9f3a"
             ],
             [
              0.8888888888888888,
              "#fdca26"
             ],
             [
              1,
              "#f0f921"
             ]
            ],
            "type": "histogram2d"
           }
          ],
          "histogram2dcontour": [
           {
            "colorbar": {
             "outlinewidth": 0,
             "ticks": ""
            },
            "colorscale": [
             [
              0,
              "#0d0887"
             ],
             [
              0.1111111111111111,
              "#46039f"
             ],
             [
              0.2222222222222222,
              "#7201a8"
             ],
             [
              0.3333333333333333,
              "#9c179e"
             ],
             [
              0.4444444444444444,
              "#bd3786"
             ],
             [
              0.5555555555555556,
              "#d8576b"
             ],
             [
              0.6666666666666666,
              "#ed7953"
             ],
             [
              0.7777777777777778,
              "#fb9f3a"
             ],
             [
              0.8888888888888888,
              "#fdca26"
             ],
             [
              1,
              "#f0f921"
             ]
            ],
            "type": "histogram2dcontour"
           }
          ],
          "mesh3d": [
           {
            "colorbar": {
             "outlinewidth": 0,
             "ticks": ""
            },
            "type": "mesh3d"
           }
          ],
          "parcoords": [
           {
            "line": {
             "colorbar": {
              "outlinewidth": 0,
              "ticks": ""
             }
            },
            "type": "parcoords"
           }
          ],
          "pie": [
           {
            "automargin": true,
            "type": "pie"
           }
          ],
          "scatter": [
           {
            "fillpattern": {
             "fillmode": "overlay",
             "size": 10,
             "solidity": 0.2
            },
            "type": "scatter"
           }
          ],
          "scatter3d": [
           {
            "line": {
             "colorbar": {
              "outlinewidth": 0,
              "ticks": ""
             }
            },
            "marker": {
             "colorbar": {
              "outlinewidth": 0,
              "ticks": ""
             }
            },
            "type": "scatter3d"
           }
          ],
          "scattercarpet": [
           {
            "marker": {
             "colorbar": {
              "outlinewidth": 0,
              "ticks": ""
             }
            },
            "type": "scattercarpet"
           }
          ],
          "scattergeo": [
           {
            "marker": {
             "colorbar": {
              "outlinewidth": 0,
              "ticks": ""
             }
            },
            "type": "scattergeo"
           }
          ],
          "scattergl": [
           {
            "marker": {
             "colorbar": {
              "outlinewidth": 0,
              "ticks": ""
             }
            },
            "type": "scattergl"
           }
          ],
          "scattermapbox": [
           {
            "marker": {
             "colorbar": {
              "outlinewidth": 0,
              "ticks": ""
             }
            },
            "type": "scattermapbox"
           }
          ],
          "scatterpolar": [
           {
            "marker": {
             "colorbar": {
              "outlinewidth": 0,
              "ticks": ""
             }
            },
            "type": "scatterpolar"
           }
          ],
          "scatterpolargl": [
           {
            "marker": {
             "colorbar": {
              "outlinewidth": 0,
              "ticks": ""
             }
            },
            "type": "scatterpolargl"
           }
          ],
          "scatterternary": [
           {
            "marker": {
             "colorbar": {
              "outlinewidth": 0,
              "ticks": ""
             }
            },
            "type": "scatterternary"
           }
          ],
          "surface": [
           {
            "colorbar": {
             "outlinewidth": 0,
             "ticks": ""
            },
            "colorscale": [
             [
              0,
              "#0d0887"
             ],
             [
              0.1111111111111111,
              "#46039f"
             ],
             [
              0.2222222222222222,
              "#7201a8"
             ],
             [
              0.3333333333333333,
              "#9c179e"
             ],
             [
              0.4444444444444444,
              "#bd3786"
             ],
             [
              0.5555555555555556,
              "#d8576b"
             ],
             [
              0.6666666666666666,
              "#ed7953"
             ],
             [
              0.7777777777777778,
              "#fb9f3a"
             ],
             [
              0.8888888888888888,
              "#fdca26"
             ],
             [
              1,
              "#f0f921"
             ]
            ],
            "type": "surface"
           }
          ],
          "table": [
           {
            "cells": {
             "fill": {
              "color": "#EBF0F8"
             },
             "line": {
              "color": "white"
             }
            },
            "header": {
             "fill": {
              "color": "#C8D4E3"
             },
             "line": {
              "color": "white"
             }
            },
            "type": "table"
           }
          ]
         },
         "layout": {
          "annotationdefaults": {
           "arrowcolor": "#2a3f5f",
           "arrowhead": 0,
           "arrowwidth": 1
          },
          "autotypenumbers": "strict",
          "coloraxis": {
           "colorbar": {
            "outlinewidth": 0,
            "ticks": ""
           }
          },
          "colorscale": {
           "diverging": [
            [
             0,
             "#8e0152"
            ],
            [
             0.1,
             "#c51b7d"
            ],
            [
             0.2,
             "#de77ae"
            ],
            [
             0.3,
             "#f1b6da"
            ],
            [
             0.4,
             "#fde0ef"
            ],
            [
             0.5,
             "#f7f7f7"
            ],
            [
             0.6,
             "#e6f5d0"
            ],
            [
             0.7,
             "#b8e186"
            ],
            [
             0.8,
             "#7fbc41"
            ],
            [
             0.9,
             "#4d9221"
            ],
            [
             1,
             "#276419"
            ]
           ],
           "sequential": [
            [
             0,
             "#0d0887"
            ],
            [
             0.1111111111111111,
             "#46039f"
            ],
            [
             0.2222222222222222,
             "#7201a8"
            ],
            [
             0.3333333333333333,
             "#9c179e"
            ],
            [
             0.4444444444444444,
             "#bd3786"
            ],
            [
             0.5555555555555556,
             "#d8576b"
            ],
            [
             0.6666666666666666,
             "#ed7953"
            ],
            [
             0.7777777777777778,
             "#fb9f3a"
            ],
            [
             0.8888888888888888,
             "#fdca26"
            ],
            [
             1,
             "#f0f921"
            ]
           ],
           "sequentialminus": [
            [
             0,
             "#0d0887"
            ],
            [
             0.1111111111111111,
             "#46039f"
            ],
            [
             0.2222222222222222,
             "#7201a8"
            ],
            [
             0.3333333333333333,
             "#9c179e"
            ],
            [
             0.4444444444444444,
             "#bd3786"
            ],
            [
             0.5555555555555556,
             "#d8576b"
            ],
            [
             0.6666666666666666,
             "#ed7953"
            ],
            [
             0.7777777777777778,
             "#fb9f3a"
            ],
            [
             0.8888888888888888,
             "#fdca26"
            ],
            [
             1,
             "#f0f921"
            ]
           ]
          },
          "colorway": [
           "#636efa",
           "#EF553B",
           "#00cc96",
           "#ab63fa",
           "#FFA15A",
           "#19d3f3",
           "#FF6692",
           "#B6E880",
           "#FF97FF",
           "#FECB52"
          ],
          "font": {
           "color": "#2a3f5f"
          },
          "geo": {
           "bgcolor": "white",
           "lakecolor": "white",
           "landcolor": "#E5ECF6",
           "showlakes": true,
           "showland": true,
           "subunitcolor": "white"
          },
          "hoverlabel": {
           "align": "left"
          },
          "hovermode": "closest",
          "mapbox": {
           "style": "light"
          },
          "paper_bgcolor": "white",
          "plot_bgcolor": "#E5ECF6",
          "polar": {
           "angularaxis": {
            "gridcolor": "white",
            "linecolor": "white",
            "ticks": ""
           },
           "bgcolor": "#E5ECF6",
           "radialaxis": {
            "gridcolor": "white",
            "linecolor": "white",
            "ticks": ""
           }
          },
          "scene": {
           "xaxis": {
            "backgroundcolor": "#E5ECF6",
            "gridcolor": "white",
            "gridwidth": 2,
            "linecolor": "white",
            "showbackground": true,
            "ticks": "",
            "zerolinecolor": "white"
           },
           "yaxis": {
            "backgroundcolor": "#E5ECF6",
            "gridcolor": "white",
            "gridwidth": 2,
            "linecolor": "white",
            "showbackground": true,
            "ticks": "",
            "zerolinecolor": "white"
           },
           "zaxis": {
            "backgroundcolor": "#E5ECF6",
            "gridcolor": "white",
            "gridwidth": 2,
            "linecolor": "white",
            "showbackground": true,
            "ticks": "",
            "zerolinecolor": "white"
           }
          },
          "shapedefaults": {
           "line": {
            "color": "#2a3f5f"
           }
          },
          "ternary": {
           "aaxis": {
            "gridcolor": "white",
            "linecolor": "white",
            "ticks": ""
           },
           "baxis": {
            "gridcolor": "white",
            "linecolor": "white",
            "ticks": ""
           },
           "bgcolor": "#E5ECF6",
           "caxis": {
            "gridcolor": "white",
            "linecolor": "white",
            "ticks": ""
           }
          },
          "title": {
           "x": 0.05
          },
          "xaxis": {
           "automargin": true,
           "gridcolor": "white",
           "linecolor": "white",
           "ticks": "",
           "title": {
            "standoff": 15
           },
           "zerolinecolor": "white",
           "zerolinewidth": 2
          },
          "yaxis": {
           "automargin": true,
           "gridcolor": "white",
           "linecolor": "white",
           "ticks": "",
           "title": {
            "standoff": 15
           },
           "zerolinecolor": "white",
           "zerolinewidth": 2
          }
         }
        },
        "title": {
         "text": "home sold avg values by city (2010-2023)"
        }
       }
      }
     },
     "metadata": {},
     "output_type": "display_data"
    }
   ],
   "source": [
    "#creating Treemap visulization to find the most expensive city with highest avg house values\n",
    "fig = px.treemap(max_avg_price_by_year, \n",
    "                 path=['MunicipalityName'],                    # Hierarchical path\n",
    "                 values='AveragePriceSold',                    # Values to map\n",
    "                 color='AveragePriceSold',                     # Color based on values\n",
    "                 hover_data=['AveragePriceSold'],              # Hover data\n",
    "                 color_continuous_scale='RdBu',     # Color scale\n",
    "                 title='home sold avg values by city (2010-2023)')\n",
    "\n",
    "# Show the plot\n",
    "fig.show()"
   ]
  },
  {
   "cell_type": "code",
   "execution_count": 16,
   "metadata": {},
   "outputs": [
    {
     "data": {
      "text/html": [
       "<div>\n",
       "<style scoped>\n",
       "    .dataframe tbody tr th:only-of-type {\n",
       "        vertical-align: middle;\n",
       "    }\n",
       "\n",
       "    .dataframe tbody tr th {\n",
       "        vertical-align: top;\n",
       "    }\n",
       "\n",
       "    .dataframe thead th {\n",
       "        text-align: right;\n",
       "    }\n",
       "</style>\n",
       "<table border=\"1\" class=\"dataframe\">\n",
       "  <thead>\n",
       "    <tr style=\"text-align: right;\">\n",
       "      <th></th>\n",
       "      <th>MunicipalityName</th>\n",
       "      <th>AveragePriceSold</th>\n",
       "    </tr>\n",
       "  </thead>\n",
       "  <tbody>\n",
       "    <tr>\n",
       "      <th>31</th>\n",
       "      <td>King</td>\n",
       "      <td>1.05M</td>\n",
       "    </tr>\n",
       "    <tr>\n",
       "      <th>36</th>\n",
       "      <td>Markham</td>\n",
       "      <td>0.91M</td>\n",
       "    </tr>\n",
       "    <tr>\n",
       "      <th>62</th>\n",
       "      <td>Toronto</td>\n",
       "      <td>0.91M</td>\n",
       "    </tr>\n",
       "  </tbody>\n",
       "</table>\n",
       "</div>"
      ],
      "text/plain": [
       "   MunicipalityName AveragePriceSold\n",
       "31             King            1.05M\n",
       "36          Markham            0.91M\n",
       "62          Toronto            0.91M"
      ]
     },
     "execution_count": 16,
     "metadata": {},
     "output_type": "execute_result"
    }
   ],
   "source": [
    "#finding Top 3 cities with highest sold values of the house\n",
    "\n",
    "top_3_avg_prices = max_avg_price_by_year.nlargest(3, 'AveragePriceSold')\n",
    "top_3_avg_prices['AveragePriceSold'] = top_3_avg_prices['AveragePriceSold'].astype(str) + 'M'\n",
    "top_3_avg_prices"
   ]
  },
  {
   "cell_type": "code",
   "execution_count": 17,
   "metadata": {},
   "outputs": [
    {
     "data": {
      "application/vnd.plotly.v1+json": {
       "config": {
        "plotlyServerURL": "https://plot.ly"
       },
       "data": [
        {
         "hovertemplate": "MunicipalityName=King<br>Year=%{x}<br>AveragePriceSold=%{y}<extra></extra>",
         "legendgroup": "King",
         "line": {
          "color": "#636efa",
          "dash": "solid"
         },
         "marker": {
          "symbol": "circle"
         },
         "mode": "lines",
         "name": "King",
         "orientation": "v",
         "showlegend": true,
         "type": "scatter",
         "x": [
          2010,
          2011,
          2012,
          2013,
          2014,
          2015,
          2016,
          2017,
          2018,
          2019,
          2020,
          2021,
          2022,
          2023
         ],
         "xaxis": "x",
         "y": [
          559828.6918238994,
          621314.3525641026,
          706895.670967742,
          744914.4759036144,
          760398.0382513661,
          786224.01,
          933656.4786729858,
          1166666.8592964825,
          1138568.402116402,
          1102080.3886010363,
          1207767.3743842365,
          1503079.2877358492,
          1726368.0603015076,
          1681813.54973822
         ],
         "yaxis": "y"
        },
        {
         "hovertemplate": "MunicipalityName=Markham<br>Year=%{x}<br>AveragePriceSold=%{y}<extra></extra>",
         "legendgroup": "Markham",
         "line": {
          "color": "#EF553B",
          "dash": "solid"
         },
         "marker": {
          "symbol": "circle"
         },
         "mode": "lines",
         "name": "Markham",
         "orientation": "v",
         "showlegend": true,
         "type": "scatter",
         "x": [
          2010,
          2011,
          2012,
          2013,
          2014,
          2015,
          2016,
          2017,
          2018,
          2019,
          2020,
          2021,
          2022,
          2023
         ],
         "xaxis": "x",
         "y": [
          494429.11676849966,
          540350.1108870967,
          604336.3340206186,
          629775.1336146273,
          695965.5968728756,
          786900.9263925729,
          929651.4692454026,
          1105134.6657736101,
          971098.6752319771,
          918688.5947046843,
          1028535.1219187209,
          1258883.8990944372,
          1416836.3840381992,
          1365792.1212996389
         ],
         "yaxis": "y"
        },
        {
         "hovertemplate": "MunicipalityName=Toronto<br>Year=%{x}<br>AveragePriceSold=%{y}<extra></extra>",
         "legendgroup": "Toronto",
         "line": {
          "color": "#00cc96",
          "dash": "solid"
         },
         "marker": {
          "symbol": "circle"
         },
         "mode": "lines",
         "name": "Toronto",
         "orientation": "v",
         "showlegend": true,
         "type": "scatter",
         "x": [
          2010,
          2011,
          2012,
          2013,
          2014,
          2015,
          2016,
          2017,
          2018,
          2019,
          2020,
          2021,
          2022,
          2023
         ],
         "xaxis": "x",
         "y": [
          531311.7392550143,
          562332.7357212004,
          600734.5329032259,
          631285.7326377567,
          693599.0555737169,
          754658.7246283129,
          849526.48202138,
          981721.5936987201,
          1013437.7691279652,
          1061950.9884678747,
          1160393.925528346,
          1250574.8218549127,
          1330100.2320354544,
          1270956.2085020242
         ],
         "yaxis": "y"
        }
       ],
       "layout": {
        "legend": {
         "title": {
          "text": "MunicipalityName"
         },
         "tracegroupgap": 0
        },
        "template": {
         "data": {
          "bar": [
           {
            "error_x": {
             "color": "#2a3f5f"
            },
            "error_y": {
             "color": "#2a3f5f"
            },
            "marker": {
             "line": {
              "color": "#E5ECF6",
              "width": 0.5
             },
             "pattern": {
              "fillmode": "overlay",
              "size": 10,
              "solidity": 0.2
             }
            },
            "type": "bar"
           }
          ],
          "barpolar": [
           {
            "marker": {
             "line": {
              "color": "#E5ECF6",
              "width": 0.5
             },
             "pattern": {
              "fillmode": "overlay",
              "size": 10,
              "solidity": 0.2
             }
            },
            "type": "barpolar"
           }
          ],
          "carpet": [
           {
            "aaxis": {
             "endlinecolor": "#2a3f5f",
             "gridcolor": "white",
             "linecolor": "white",
             "minorgridcolor": "white",
             "startlinecolor": "#2a3f5f"
            },
            "baxis": {
             "endlinecolor": "#2a3f5f",
             "gridcolor": "white",
             "linecolor": "white",
             "minorgridcolor": "white",
             "startlinecolor": "#2a3f5f"
            },
            "type": "carpet"
           }
          ],
          "choropleth": [
           {
            "colorbar": {
             "outlinewidth": 0,
             "ticks": ""
            },
            "type": "choropleth"
           }
          ],
          "contour": [
           {
            "colorbar": {
             "outlinewidth": 0,
             "ticks": ""
            },
            "colorscale": [
             [
              0,
              "#0d0887"
             ],
             [
              0.1111111111111111,
              "#46039f"
             ],
             [
              0.2222222222222222,
              "#7201a8"
             ],
             [
              0.3333333333333333,
              "#9c179e"
             ],
             [
              0.4444444444444444,
              "#bd3786"
             ],
             [
              0.5555555555555556,
              "#d8576b"
             ],
             [
              0.6666666666666666,
              "#ed7953"
             ],
             [
              0.7777777777777778,
              "#fb9f3a"
             ],
             [
              0.8888888888888888,
              "#fdca26"
             ],
             [
              1,
              "#f0f921"
             ]
            ],
            "type": "contour"
           }
          ],
          "contourcarpet": [
           {
            "colorbar": {
             "outlinewidth": 0,
             "ticks": ""
            },
            "type": "contourcarpet"
           }
          ],
          "heatmap": [
           {
            "colorbar": {
             "outlinewidth": 0,
             "ticks": ""
            },
            "colorscale": [
             [
              0,
              "#0d0887"
             ],
             [
              0.1111111111111111,
              "#46039f"
             ],
             [
              0.2222222222222222,
              "#7201a8"
             ],
             [
              0.3333333333333333,
              "#9c179e"
             ],
             [
              0.4444444444444444,
              "#bd3786"
             ],
             [
              0.5555555555555556,
              "#d8576b"
             ],
             [
              0.6666666666666666,
              "#ed7953"
             ],
             [
              0.7777777777777778,
              "#fb9f3a"
             ],
             [
              0.8888888888888888,
              "#fdca26"
             ],
             [
              1,
              "#f0f921"
             ]
            ],
            "type": "heatmap"
           }
          ],
          "heatmapgl": [
           {
            "colorbar": {
             "outlinewidth": 0,
             "ticks": ""
            },
            "colorscale": [
             [
              0,
              "#0d0887"
             ],
             [
              0.1111111111111111,
              "#46039f"
             ],
             [
              0.2222222222222222,
              "#7201a8"
             ],
             [
              0.3333333333333333,
              "#9c179e"
             ],
             [
              0.4444444444444444,
              "#bd3786"
             ],
             [
              0.5555555555555556,
              "#d8576b"
             ],
             [
              0.6666666666666666,
              "#ed7953"
             ],
             [
              0.7777777777777778,
              "#fb9f3a"
             ],
             [
              0.8888888888888888,
              "#fdca26"
             ],
             [
              1,
              "#f0f921"
             ]
            ],
            "type": "heatmapgl"
           }
          ],
          "histogram": [
           {
            "marker": {
             "pattern": {
              "fillmode": "overlay",
              "size": 10,
              "solidity": 0.2
             }
            },
            "type": "histogram"
           }
          ],
          "histogram2d": [
           {
            "colorbar": {
             "outlinewidth": 0,
             "ticks": ""
            },
            "colorscale": [
             [
              0,
              "#0d0887"
             ],
             [
              0.1111111111111111,
              "#46039f"
             ],
             [
              0.2222222222222222,
              "#7201a8"
             ],
             [
              0.3333333333333333,
              "#9c179e"
             ],
             [
              0.4444444444444444,
              "#bd3786"
             ],
             [
              0.5555555555555556,
              "#d8576b"
             ],
             [
              0.6666666666666666,
              "#ed7953"
             ],
             [
              0.7777777777777778,
              "#fb9f3a"
             ],
             [
              0.8888888888888888,
              "#fdca26"
             ],
             [
              1,
              "#f0f921"
             ]
            ],
            "type": "histogram2d"
           }
          ],
          "histogram2dcontour": [
           {
            "colorbar": {
             "outlinewidth": 0,
             "ticks": ""
            },
            "colorscale": [
             [
              0,
              "#0d0887"
             ],
             [
              0.1111111111111111,
              "#46039f"
             ],
             [
              0.2222222222222222,
              "#7201a8"
             ],
             [
              0.3333333333333333,
              "#9c179e"
             ],
             [
              0.4444444444444444,
              "#bd3786"
             ],
             [
              0.5555555555555556,
              "#d8576b"
             ],
             [
              0.6666666666666666,
              "#ed7953"
             ],
             [
              0.7777777777777778,
              "#fb9f3a"
             ],
             [
              0.8888888888888888,
              "#fdca26"
             ],
             [
              1,
              "#f0f921"
             ]
            ],
            "type": "histogram2dcontour"
           }
          ],
          "mesh3d": [
           {
            "colorbar": {
             "outlinewidth": 0,
             "ticks": ""
            },
            "type": "mesh3d"
           }
          ],
          "parcoords": [
           {
            "line": {
             "colorbar": {
              "outlinewidth": 0,
              "ticks": ""
             }
            },
            "type": "parcoords"
           }
          ],
          "pie": [
           {
            "automargin": true,
            "type": "pie"
           }
          ],
          "scatter": [
           {
            "fillpattern": {
             "fillmode": "overlay",
             "size": 10,
             "solidity": 0.2
            },
            "type": "scatter"
           }
          ],
          "scatter3d": [
           {
            "line": {
             "colorbar": {
              "outlinewidth": 0,
              "ticks": ""
             }
            },
            "marker": {
             "colorbar": {
              "outlinewidth": 0,
              "ticks": ""
             }
            },
            "type": "scatter3d"
           }
          ],
          "scattercarpet": [
           {
            "marker": {
             "colorbar": {
              "outlinewidth": 0,
              "ticks": ""
             }
            },
            "type": "scattercarpet"
           }
          ],
          "scattergeo": [
           {
            "marker": {
             "colorbar": {
              "outlinewidth": 0,
              "ticks": ""
             }
            },
            "type": "scattergeo"
           }
          ],
          "scattergl": [
           {
            "marker": {
             "colorbar": {
              "outlinewidth": 0,
              "ticks": ""
             }
            },
            "type": "scattergl"
           }
          ],
          "scattermapbox": [
           {
            "marker": {
             "colorbar": {
              "outlinewidth": 0,
              "ticks": ""
             }
            },
            "type": "scattermapbox"
           }
          ],
          "scatterpolar": [
           {
            "marker": {
             "colorbar": {
              "outlinewidth": 0,
              "ticks": ""
             }
            },
            "type": "scatterpolar"
           }
          ],
          "scatterpolargl": [
           {
            "marker": {
             "colorbar": {
              "outlinewidth": 0,
              "ticks": ""
             }
            },
            "type": "scatterpolargl"
           }
          ],
          "scatterternary": [
           {
            "marker": {
             "colorbar": {
              "outlinewidth": 0,
              "ticks": ""
             }
            },
            "type": "scatterternary"
           }
          ],
          "surface": [
           {
            "colorbar": {
             "outlinewidth": 0,
             "ticks": ""
            },
            "colorscale": [
             [
              0,
              "#0d0887"
             ],
             [
              0.1111111111111111,
              "#46039f"
             ],
             [
              0.2222222222222222,
              "#7201a8"
             ],
             [
              0.3333333333333333,
              "#9c179e"
             ],
             [
              0.4444444444444444,
              "#bd3786"
             ],
             [
              0.5555555555555556,
              "#d8576b"
             ],
             [
              0.6666666666666666,
              "#ed7953"
             ],
             [
              0.7777777777777778,
              "#fb9f3a"
             ],
             [
              0.8888888888888888,
              "#fdca26"
             ],
             [
              1,
              "#f0f921"
             ]
            ],
            "type": "surface"
           }
          ],
          "table": [
           {
            "cells": {
             "fill": {
              "color": "#EBF0F8"
             },
             "line": {
              "color": "white"
             }
            },
            "header": {
             "fill": {
              "color": "#C8D4E3"
             },
             "line": {
              "color": "white"
             }
            },
            "type": "table"
           }
          ]
         },
         "layout": {
          "annotationdefaults": {
           "arrowcolor": "#2a3f5f",
           "arrowhead": 0,
           "arrowwidth": 1
          },
          "autotypenumbers": "strict",
          "coloraxis": {
           "colorbar": {
            "outlinewidth": 0,
            "ticks": ""
           }
          },
          "colorscale": {
           "diverging": [
            [
             0,
             "#8e0152"
            ],
            [
             0.1,
             "#c51b7d"
            ],
            [
             0.2,
             "#de77ae"
            ],
            [
             0.3,
             "#f1b6da"
            ],
            [
             0.4,
             "#fde0ef"
            ],
            [
             0.5,
             "#f7f7f7"
            ],
            [
             0.6,
             "#e6f5d0"
            ],
            [
             0.7,
             "#b8e186"
            ],
            [
             0.8,
             "#7fbc41"
            ],
            [
             0.9,
             "#4d9221"
            ],
            [
             1,
             "#276419"
            ]
           ],
           "sequential": [
            [
             0,
             "#0d0887"
            ],
            [
             0.1111111111111111,
             "#46039f"
            ],
            [
             0.2222222222222222,
             "#7201a8"
            ],
            [
             0.3333333333333333,
             "#9c179e"
            ],
            [
             0.4444444444444444,
             "#bd3786"
            ],
            [
             0.5555555555555556,
             "#d8576b"
            ],
            [
             0.6666666666666666,
             "#ed7953"
            ],
            [
             0.7777777777777778,
             "#fb9f3a"
            ],
            [
             0.8888888888888888,
             "#fdca26"
            ],
            [
             1,
             "#f0f921"
            ]
           ],
           "sequentialminus": [
            [
             0,
             "#0d0887"
            ],
            [
             0.1111111111111111,
             "#46039f"
            ],
            [
             0.2222222222222222,
             "#7201a8"
            ],
            [
             0.3333333333333333,
             "#9c179e"
            ],
            [
             0.4444444444444444,
             "#bd3786"
            ],
            [
             0.5555555555555556,
             "#d8576b"
            ],
            [
             0.6666666666666666,
             "#ed7953"
            ],
            [
             0.7777777777777778,
             "#fb9f3a"
            ],
            [
             0.8888888888888888,
             "#fdca26"
            ],
            [
             1,
             "#f0f921"
            ]
           ]
          },
          "colorway": [
           "#636efa",
           "#EF553B",
           "#00cc96",
           "#ab63fa",
           "#FFA15A",
           "#19d3f3",
           "#FF6692",
           "#B6E880",
           "#FF97FF",
           "#FECB52"
          ],
          "font": {
           "color": "#2a3f5f"
          },
          "geo": {
           "bgcolor": "white",
           "lakecolor": "white",
           "landcolor": "#E5ECF6",
           "showlakes": true,
           "showland": true,
           "subunitcolor": "white"
          },
          "hoverlabel": {
           "align": "left"
          },
          "hovermode": "closest",
          "mapbox": {
           "style": "light"
          },
          "paper_bgcolor": "white",
          "plot_bgcolor": "#E5ECF6",
          "polar": {
           "angularaxis": {
            "gridcolor": "white",
            "linecolor": "white",
            "ticks": ""
           },
           "bgcolor": "#E5ECF6",
           "radialaxis": {
            "gridcolor": "white",
            "linecolor": "white",
            "ticks": ""
           }
          },
          "scene": {
           "xaxis": {
            "backgroundcolor": "#E5ECF6",
            "gridcolor": "white",
            "gridwidth": 2,
            "linecolor": "white",
            "showbackground": true,
            "ticks": "",
            "zerolinecolor": "white"
           },
           "yaxis": {
            "backgroundcolor": "#E5ECF6",
            "gridcolor": "white",
            "gridwidth": 2,
            "linecolor": "white",
            "showbackground": true,
            "ticks": "",
            "zerolinecolor": "white"
           },
           "zaxis": {
            "backgroundcolor": "#E5ECF6",
            "gridcolor": "white",
            "gridwidth": 2,
            "linecolor": "white",
            "showbackground": true,
            "ticks": "",
            "zerolinecolor": "white"
           }
          },
          "shapedefaults": {
           "line": {
            "color": "#2a3f5f"
           }
          },
          "ternary": {
           "aaxis": {
            "gridcolor": "white",
            "linecolor": "white",
            "ticks": ""
           },
           "baxis": {
            "gridcolor": "white",
            "linecolor": "white",
            "ticks": ""
           },
           "bgcolor": "#E5ECF6",
           "caxis": {
            "gridcolor": "white",
            "linecolor": "white",
            "ticks": ""
           }
          },
          "title": {
           "x": 0.05
          },
          "xaxis": {
           "automargin": true,
           "gridcolor": "white",
           "linecolor": "white",
           "ticks": "",
           "title": {
            "standoff": 15
           },
           "zerolinecolor": "white",
           "zerolinewidth": 2
          },
          "yaxis": {
           "automargin": true,
           "gridcolor": "white",
           "linecolor": "white",
           "ticks": "",
           "title": {
            "standoff": 15
           },
           "zerolinecolor": "white",
           "zerolinewidth": 2
          }
         }
        },
        "title": {
         "text": "Home Sold Average Price by Top-3 Cities Over Time (2010-2023)"
        },
        "xaxis": {
         "anchor": "y",
         "domain": [
          0,
          1
         ],
         "title": {
          "text": "Year"
         }
        },
        "yaxis": {
         "anchor": "x",
         "domain": [
          0,
          1
         ],
         "title": {
          "text": "AveragePriceSold"
         }
        }
       }
      }
     },
     "metadata": {},
     "output_type": "display_data"
    }
   ],
   "source": [
    "#Creating Line chart to display how top-3 cities have changed over time in terms of avg house values\n",
    "cities_to_plot = ['King', 'Markham', 'Toronto']  # Replace with the actual city names\n",
    "filtered_df = avg_price_by_year[avg_price_by_year['MunicipalityName'].isin(cities_to_plot)]\n",
    "\n",
    "# Create the line chart using the filtered data\n",
    "fig = px.line(filtered_df, \n",
    "              x='Year',                 # X-axis: Year\n",
    "              y='AveragePriceSold',      # Y-axis: Average Price Sold\n",
    "              color='MunicipalityName',  # Different line for each city\n",
    "              title='Home Sold Average Price by Top-3 Cities Over Time (2010-2023)')\n",
    "\n",
    "# Show the plot\n",
    "fig.show() "
   ]
  }
 ],
 "metadata": {
  "kernelspec": {
   "display_name": "pandas_intro",
   "language": "python",
   "name": "python3"
  },
  "language_info": {
   "codemirror_mode": {
    "name": "ipython",
    "version": 3
   },
   "file_extension": ".py",
   "mimetype": "text/x-python",
   "name": "python",
   "nbconvert_exporter": "python",
   "pygments_lexer": "ipython3",
   "version": "3.11.9"
  }
 },
 "nbformat": 4,
 "nbformat_minor": 2
}
