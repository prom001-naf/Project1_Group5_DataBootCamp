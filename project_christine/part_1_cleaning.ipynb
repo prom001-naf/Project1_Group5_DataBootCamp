{
 "cells": [
  {
   "cell_type": "code",
   "execution_count": 2,
   "metadata": {},
   "outputs": [],
   "source": [
    "# What is the difference in the cost of living affordability for renters vs. first-time home owners vs. not first-time home owners?"
   ]
  },
  {
   "cell_type": "code",
   "execution_count": 1,
   "metadata": {},
   "outputs": [],
   "source": [
    "# Dependencies\n",
    "import pandas as pd\n",
    "from pathlib import Path\n",
    "import matplotlib.pyplot as plt\n",
    "import scipy.stats as st\n",
    "import numpy as np\n",
    "import seaborn as sns"
   ]
  },
  {
   "cell_type": "code",
   "execution_count": 3,
   "metadata": {},
   "outputs": [],
   "source": [
    "# Save file path to variable\n",
    "data1_csv = Path('Resources/data1.csv')\n",
    "data2_csv = Path('Resources/data2.csv')\n",
    "data3_csv = Path('Resources/data3.csv')\n",
    "\n",
    "# Read with Pandas\n",
    "df1 = pd.read_csv(data1_csv)\n",
    "df2 = pd.read_csv(data2_csv)\n",
    "df3 = pd.read_csv(data3_csv)"
   ]
  },
  {
   "cell_type": "code",
   "execution_count": 4,
   "metadata": {},
   "outputs": [
    {
     "data": {
      "text/html": [
       "<div>\n",
       "<style scoped>\n",
       "    .dataframe tbody tr th:only-of-type {\n",
       "        vertical-align: middle;\n",
       "    }\n",
       "\n",
       "    .dataframe tbody tr th {\n",
       "        vertical-align: top;\n",
       "    }\n",
       "\n",
       "    .dataframe thead th {\n",
       "        text-align: right;\n",
       "    }\n",
       "</style>\n",
       "<table border=\"1\" class=\"dataframe\">\n",
       "  <thead>\n",
       "    <tr style=\"text-align: right;\">\n",
       "      <th></th>\n",
       "      <th>REF_DATE</th>\n",
       "      <th>GEO</th>\n",
       "      <th>DGUID</th>\n",
       "      <th>Tenure including first-time homebuyer status</th>\n",
       "      <th>Select housing indicators</th>\n",
       "      <th>Statistics</th>\n",
       "      <th>UOM</th>\n",
       "      <th>UOM_ID</th>\n",
       "      <th>SCALAR_FACTOR</th>\n",
       "      <th>SCALAR_ID</th>\n",
       "      <th>VECTOR</th>\n",
       "      <th>COORDINATE</th>\n",
       "      <th>VALUE</th>\n",
       "      <th>STATUS</th>\n",
       "      <th>SYMBOL</th>\n",
       "      <th>TERMINATED</th>\n",
       "      <th>DECIMALS</th>\n",
       "      <th>Select household characteristics</th>\n",
       "      <th>Tenure including first-time homebuyer and social and affordable housing status</th>\n",
       "      <th>Acceptable housing</th>\n",
       "    </tr>\n",
       "  </thead>\n",
       "  <tbody>\n",
       "    <tr>\n",
       "      <th>0</th>\n",
       "      <td>2018</td>\n",
       "      <td>Ontario</td>\n",
       "      <td>2021A000235</td>\n",
       "      <td>Owner who is a first-time homebuyer</td>\n",
       "      <td>Total, structural type of dwelling</td>\n",
       "      <td>Number of households</td>\n",
       "      <td>Number</td>\n",
       "      <td>223</td>\n",
       "      <td>units</td>\n",
       "      <td>0</td>\n",
       "      <td>v1596448330</td>\n",
       "      <td>25.3.1.1</td>\n",
       "      <td>474300</td>\n",
       "      <td>NaN</td>\n",
       "      <td>NaN</td>\n",
       "      <td>NaN</td>\n",
       "      <td>0</td>\n",
       "      <td>NaN</td>\n",
       "      <td>NaN</td>\n",
       "      <td>NaN</td>\n",
       "    </tr>\n",
       "    <tr>\n",
       "      <th>1</th>\n",
       "      <td>2021</td>\n",
       "      <td>Ontario</td>\n",
       "      <td>2021A000235</td>\n",
       "      <td>Owner who is a first-time homebuyer</td>\n",
       "      <td>Total, structural type of dwelling</td>\n",
       "      <td>Number of households</td>\n",
       "      <td>Number</td>\n",
       "      <td>223</td>\n",
       "      <td>units</td>\n",
       "      <td>0</td>\n",
       "      <td>v1596448330</td>\n",
       "      <td>25.3.1.1</td>\n",
       "      <td>532800</td>\n",
       "      <td>NaN</td>\n",
       "      <td>NaN</td>\n",
       "      <td>NaN</td>\n",
       "      <td>0</td>\n",
       "      <td>NaN</td>\n",
       "      <td>NaN</td>\n",
       "      <td>NaN</td>\n",
       "    </tr>\n",
       "    <tr>\n",
       "      <th>2</th>\n",
       "      <td>2022</td>\n",
       "      <td>Ontario</td>\n",
       "      <td>2021A000235</td>\n",
       "      <td>Owner who is a first-time homebuyer</td>\n",
       "      <td>Total, structural type of dwelling</td>\n",
       "      <td>Number of households</td>\n",
       "      <td>Number</td>\n",
       "      <td>223</td>\n",
       "      <td>units</td>\n",
       "      <td>0</td>\n",
       "      <td>v1596448330</td>\n",
       "      <td>25.3.1.1</td>\n",
       "      <td>477700</td>\n",
       "      <td>NaN</td>\n",
       "      <td>NaN</td>\n",
       "      <td>NaN</td>\n",
       "      <td>0</td>\n",
       "      <td>NaN</td>\n",
       "      <td>NaN</td>\n",
       "      <td>NaN</td>\n",
       "    </tr>\n",
       "    <tr>\n",
       "      <th>3</th>\n",
       "      <td>2018</td>\n",
       "      <td>Ontario</td>\n",
       "      <td>2021A000235</td>\n",
       "      <td>Owner who is a first-time homebuyer</td>\n",
       "      <td>Single-detached house</td>\n",
       "      <td>Number of households</td>\n",
       "      <td>Number</td>\n",
       "      <td>223</td>\n",
       "      <td>units</td>\n",
       "      <td>0</td>\n",
       "      <td>v1596448396</td>\n",
       "      <td>25.3.2.1</td>\n",
       "      <td>265300</td>\n",
       "      <td>NaN</td>\n",
       "      <td>NaN</td>\n",
       "      <td>NaN</td>\n",
       "      <td>0</td>\n",
       "      <td>NaN</td>\n",
       "      <td>NaN</td>\n",
       "      <td>NaN</td>\n",
       "    </tr>\n",
       "    <tr>\n",
       "      <th>4</th>\n",
       "      <td>2021</td>\n",
       "      <td>Ontario</td>\n",
       "      <td>2021A000235</td>\n",
       "      <td>Owner who is a first-time homebuyer</td>\n",
       "      <td>Single-detached house</td>\n",
       "      <td>Number of households</td>\n",
       "      <td>Number</td>\n",
       "      <td>223</td>\n",
       "      <td>units</td>\n",
       "      <td>0</td>\n",
       "      <td>v1596448396</td>\n",
       "      <td>25.3.2.1</td>\n",
       "      <td>302300</td>\n",
       "      <td>NaN</td>\n",
       "      <td>NaN</td>\n",
       "      <td>NaN</td>\n",
       "      <td>0</td>\n",
       "      <td>NaN</td>\n",
       "      <td>NaN</td>\n",
       "      <td>NaN</td>\n",
       "    </tr>\n",
       "  </tbody>\n",
       "</table>\n",
       "</div>"
      ],
      "text/plain": [
       "   REF_DATE      GEO        DGUID  \\\n",
       "0      2018  Ontario  2021A000235   \n",
       "1      2021  Ontario  2021A000235   \n",
       "2      2022  Ontario  2021A000235   \n",
       "3      2018  Ontario  2021A000235   \n",
       "4      2021  Ontario  2021A000235   \n",
       "\n",
       "  Tenure including first-time homebuyer status  \\\n",
       "0          Owner who is a first-time homebuyer   \n",
       "1          Owner who is a first-time homebuyer   \n",
       "2          Owner who is a first-time homebuyer   \n",
       "3          Owner who is a first-time homebuyer   \n",
       "4          Owner who is a first-time homebuyer   \n",
       "\n",
       "            Select housing indicators            Statistics     UOM  UOM_ID  \\\n",
       "0  Total, structural type of dwelling  Number of households  Number     223   \n",
       "1  Total, structural type of dwelling  Number of households  Number     223   \n",
       "2  Total, structural type of dwelling  Number of households  Number     223   \n",
       "3               Single-detached house  Number of households  Number     223   \n",
       "4               Single-detached house  Number of households  Number     223   \n",
       "\n",
       "  SCALAR_FACTOR  SCALAR_ID       VECTOR COORDINATE   VALUE  STATUS  SYMBOL  \\\n",
       "0         units          0  v1596448330   25.3.1.1  474300     NaN     NaN   \n",
       "1         units          0  v1596448330   25.3.1.1  532800     NaN     NaN   \n",
       "2         units          0  v1596448330   25.3.1.1  477700     NaN     NaN   \n",
       "3         units          0  v1596448396   25.3.2.1  265300     NaN     NaN   \n",
       "4         units          0  v1596448396   25.3.2.1  302300     NaN     NaN   \n",
       "\n",
       "   TERMINATED  DECIMALS Select household characteristics  \\\n",
       "0         NaN         0                              NaN   \n",
       "1         NaN         0                              NaN   \n",
       "2         NaN         0                              NaN   \n",
       "3         NaN         0                              NaN   \n",
       "4         NaN         0                              NaN   \n",
       "\n",
       "  Tenure including first-time homebuyer and social and affordable housing status  \\\n",
       "0                                                NaN                               \n",
       "1                                                NaN                               \n",
       "2                                                NaN                               \n",
       "3                                                NaN                               \n",
       "4                                                NaN                               \n",
       "\n",
       "  Acceptable housing  \n",
       "0                NaN  \n",
       "1                NaN  \n",
       "2                NaN  \n",
       "3                NaN  \n",
       "4                NaN  "
      ]
     },
     "execution_count": 4,
     "metadata": {},
     "output_type": "execute_result"
    }
   ],
   "source": [
    "# Merge/stack data using concat\n",
    "merged_df = pd.concat([df1, df2, df3], axis=0)\n",
    "merged_df.head()"
   ]
  },
  {
   "cell_type": "code",
   "execution_count": 5,
   "metadata": {},
   "outputs": [
    {
     "data": {
      "text/plain": [
       "Index(['REF_DATE', 'GEO', 'DGUID',\n",
       "       'Tenure including first-time homebuyer status',\n",
       "       'Select housing indicators', 'Statistics', 'UOM', 'UOM_ID',\n",
       "       'SCALAR_FACTOR', 'SCALAR_ID', 'VECTOR', 'COORDINATE', 'VALUE', 'STATUS',\n",
       "       'SYMBOL', 'TERMINATED', 'DECIMALS', 'Select household characteristics',\n",
       "       'Tenure including first-time homebuyer and social and affordable housing status',\n",
       "       'Acceptable housing'],\n",
       "      dtype='object')"
      ]
     },
     "execution_count": 5,
     "metadata": {},
     "output_type": "execute_result"
    }
   ],
   "source": [
    "merged_df.columns"
   ]
  },
  {
   "cell_type": "code",
   "execution_count": 6,
   "metadata": {},
   "outputs": [
    {
     "data": {
      "text/html": [
       "<div>\n",
       "<style scoped>\n",
       "    .dataframe tbody tr th:only-of-type {\n",
       "        vertical-align: middle;\n",
       "    }\n",
       "\n",
       "    .dataframe tbody tr th {\n",
       "        vertical-align: top;\n",
       "    }\n",
       "\n",
       "    .dataframe thead th {\n",
       "        text-align: right;\n",
       "    }\n",
       "</style>\n",
       "<table border=\"1\" class=\"dataframe\">\n",
       "  <thead>\n",
       "    <tr style=\"text-align: right;\">\n",
       "      <th></th>\n",
       "      <th>REF_DATE</th>\n",
       "      <th>GEO</th>\n",
       "      <th>Tenure including first-time homebuyer status</th>\n",
       "      <th>Select housing indicators</th>\n",
       "      <th>VALUE</th>\n",
       "      <th>Select household characteristics</th>\n",
       "      <th>Tenure including first-time homebuyer and social and affordable housing status</th>\n",
       "      <th>Acceptable housing</th>\n",
       "    </tr>\n",
       "  </thead>\n",
       "  <tbody>\n",
       "    <tr>\n",
       "      <th>0</th>\n",
       "      <td>2018</td>\n",
       "      <td>Ontario</td>\n",
       "      <td>Owner who is a first-time homebuyer</td>\n",
       "      <td>Total, structural type of dwelling</td>\n",
       "      <td>474300</td>\n",
       "      <td>NaN</td>\n",
       "      <td>NaN</td>\n",
       "      <td>NaN</td>\n",
       "    </tr>\n",
       "    <tr>\n",
       "      <th>1</th>\n",
       "      <td>2021</td>\n",
       "      <td>Ontario</td>\n",
       "      <td>Owner who is a first-time homebuyer</td>\n",
       "      <td>Total, structural type of dwelling</td>\n",
       "      <td>532800</td>\n",
       "      <td>NaN</td>\n",
       "      <td>NaN</td>\n",
       "      <td>NaN</td>\n",
       "    </tr>\n",
       "  </tbody>\n",
       "</table>\n",
       "</div>"
      ],
      "text/plain": [
       "   REF_DATE      GEO Tenure including first-time homebuyer status  \\\n",
       "0      2018  Ontario          Owner who is a first-time homebuyer   \n",
       "1      2021  Ontario          Owner who is a first-time homebuyer   \n",
       "\n",
       "            Select housing indicators   VALUE  \\\n",
       "0  Total, structural type of dwelling  474300   \n",
       "1  Total, structural type of dwelling  532800   \n",
       "\n",
       "  Select household characteristics  \\\n",
       "0                              NaN   \n",
       "1                              NaN   \n",
       "\n",
       "  Tenure including first-time homebuyer and social and affordable housing status  \\\n",
       "0                                                NaN                               \n",
       "1                                                NaN                               \n",
       "\n",
       "  Acceptable housing  \n",
       "0                NaN  \n",
       "1                NaN  "
      ]
     },
     "execution_count": 6,
     "metadata": {},
     "output_type": "execute_result"
    }
   ],
   "source": [
    "# Delete unnecessary columns\n",
    "unnecessary_columns = ['DGUID',\n",
    "                       'UOM',\n",
    "                       'UOM_ID',\n",
    "                       'SCALAR_FACTOR',\n",
    "                       'SCALAR_ID',\n",
    "                       'VECTOR',\n",
    "                       'COORDINATE',\n",
    "                       'STATUS',\n",
    "                       'SYMBOL',\n",
    "                       'TERMINATED',\n",
    "                       'Statistics',\n",
    "                       'DECIMALS']\n",
    "merged_df.drop(columns=unnecessary_columns, inplace=True)\n",
    "merged_df.head(2)"
   ]
  },
  {
   "cell_type": "code",
   "execution_count": 7,
   "metadata": {},
   "outputs": [
    {
     "data": {
      "text/plain": [
       "Index(['REF_DATE', 'GEO', 'Tenure including first-time homebuyer status',\n",
       "       'Select housing indicators', 'VALUE',\n",
       "       'Select household characteristics',\n",
       "       'Tenure including first-time homebuyer and social and affordable housing status',\n",
       "       'Acceptable housing'],\n",
       "      dtype='object')"
      ]
     },
     "execution_count": 7,
     "metadata": {},
     "output_type": "execute_result"
    }
   ],
   "source": [
    "merged_df.columns"
   ]
  },
  {
   "cell_type": "code",
   "execution_count": 8,
   "metadata": {},
   "outputs": [
    {
     "data": {
      "text/plain": [
       "Tenure including first-time homebuyer and social and affordable housing status\n",
       "Owner household, first-time homebuyer        8\n",
       "Owner household, not first-time homebuyer    8\n",
       "Renter household                             8\n",
       "Name: count, dtype: int64"
      ]
     },
     "execution_count": 8,
     "metadata": {},
     "output_type": "execute_result"
    }
   ],
   "source": [
    "merged_df['Tenure including first-time homebuyer and social and affordable housing status'].value_counts()"
   ]
  },
  {
   "cell_type": "code",
   "execution_count": 9,
   "metadata": {},
   "outputs": [
    {
     "data": {
      "text/plain": [
       "Tenure including first-time homebuyer and social and affordable housing status\n",
       "First-time homebuyer    8\n",
       "Repeat homebuyer        8\n",
       "Renter                  8\n",
       "Name: count, dtype: int64"
      ]
     },
     "execution_count": 9,
     "metadata": {},
     "output_type": "execute_result"
    }
   ],
   "source": [
    "# Change 'Tenure including first-time homebuyer and social and affordable housing status' values to match 'Tenure including first-time homebuyer status'\n",
    "merged_df['Tenure including first-time homebuyer and social and affordable housing status'] = merged_df['Tenure including first-time homebuyer and social and affordable housing status'].replace({\n",
    "        'Owner household, first-time homebuyer' : 'First-time homebuyer',\n",
    "        'Owner household, not first-time homebuyer' : 'Repeat homebuyer',\n",
    "        'Renter household' : 'Renter'\n",
    "    })\n",
    "merged_df['Tenure including first-time homebuyer and social and affordable housing status'].value_counts()"
   ]
  },
  {
   "cell_type": "code",
   "execution_count": 10,
   "metadata": {},
   "outputs": [
    {
     "data": {
      "text/plain": [
       "Index(['REF_DATE', 'GEO', 'Tenure including first-time homebuyer status',\n",
       "       'Select housing indicators', 'VALUE',\n",
       "       'Select household characteristics',\n",
       "       'Tenure including first-time homebuyer and social and affordable housing status',\n",
       "       'Acceptable housing'],\n",
       "      dtype='object')"
      ]
     },
     "execution_count": 10,
     "metadata": {},
     "output_type": "execute_result"
    }
   ],
   "source": [
    "merged_df.columns"
   ]
  },
  {
   "cell_type": "code",
   "execution_count": 11,
   "metadata": {},
   "outputs": [
    {
     "data": {
      "text/plain": [
       "Tenure including first-time homebuyer status\n",
       "Owner who is a first-time homebuyer        2124\n",
       "Owner who is not a first-time homebuyer    2124\n",
       "Renter                                     2124\n",
       "Name: count, dtype: int64"
      ]
     },
     "execution_count": 11,
     "metadata": {},
     "output_type": "execute_result"
    }
   ],
   "source": [
    "merged_df['Tenure including first-time homebuyer status'].value_counts()"
   ]
  },
  {
   "cell_type": "code",
   "execution_count": 12,
   "metadata": {},
   "outputs": [
    {
     "data": {
      "text/plain": [
       "Tenure including first-time homebuyer status\n",
       "First-time homebuyer    2124\n",
       "Repeat homebuyer        2124\n",
       "Renter                  2124\n",
       "Name: count, dtype: int64"
      ]
     },
     "execution_count": 12,
     "metadata": {},
     "output_type": "execute_result"
    }
   ],
   "source": [
    "# Change 'Tenure including first-time homebuyer status' values to match 'Tenure including first-time homebuyer and social and affordable housing status'\n",
    "merged_df['Tenure including first-time homebuyer status'] = merged_df['Tenure including first-time homebuyer status'].replace({\n",
    "        'Owner who is a first-time homebuyer' : 'First-time homebuyer',\n",
    "        'Owner who is not a first-time homebuyer' : 'Repeat homebuyer',\n",
    "    })\n",
    "merged_df['Tenure including first-time homebuyer status'].value_counts()"
   ]
  },
  {
   "cell_type": "code",
   "execution_count": 13,
   "metadata": {},
   "outputs": [
    {
     "data": {
      "text/plain": [
       "Tenure\n",
       "First-time homebuyer    2132\n",
       "Repeat homebuyer        2132\n",
       "Renter                  2132\n",
       "Name: count, dtype: int64"
      ]
     },
     "execution_count": 13,
     "metadata": {},
     "output_type": "execute_result"
    }
   ],
   "source": [
    "# Merge 'Tenure' columns\n",
    "merged_df['Tenure'] = merged_df['Tenure including first-time homebuyer status'].fillna(merged_df['Tenure including first-time homebuyer and social and affordable housing status'])\n",
    "merged_df['Tenure'].value_counts()"
   ]
  },
  {
   "cell_type": "code",
   "execution_count": 14,
   "metadata": {},
   "outputs": [
    {
     "data": {
      "text/html": [
       "<div>\n",
       "<style scoped>\n",
       "    .dataframe tbody tr th:only-of-type {\n",
       "        vertical-align: middle;\n",
       "    }\n",
       "\n",
       "    .dataframe tbody tr th {\n",
       "        vertical-align: top;\n",
       "    }\n",
       "\n",
       "    .dataframe thead th {\n",
       "        text-align: right;\n",
       "    }\n",
       "</style>\n",
       "<table border=\"1\" class=\"dataframe\">\n",
       "  <thead>\n",
       "    <tr style=\"text-align: right;\">\n",
       "      <th></th>\n",
       "      <th>REF_DATE</th>\n",
       "      <th>GEO</th>\n",
       "      <th>Tenure including first-time homebuyer status</th>\n",
       "      <th>Select housing indicators</th>\n",
       "      <th>VALUE</th>\n",
       "      <th>Select household characteristics</th>\n",
       "      <th>Tenure including first-time homebuyer and social and affordable housing status</th>\n",
       "      <th>Acceptable housing</th>\n",
       "      <th>Tenure</th>\n",
       "    </tr>\n",
       "  </thead>\n",
       "  <tbody>\n",
       "    <tr>\n",
       "      <th>0</th>\n",
       "      <td>2018</td>\n",
       "      <td>Ontario</td>\n",
       "      <td>First-time homebuyer</td>\n",
       "      <td>Total, structural type of dwelling</td>\n",
       "      <td>474300</td>\n",
       "      <td>NaN</td>\n",
       "      <td>NaN</td>\n",
       "      <td>NaN</td>\n",
       "      <td>First-time homebuyer</td>\n",
       "    </tr>\n",
       "    <tr>\n",
       "      <th>1</th>\n",
       "      <td>2021</td>\n",
       "      <td>Ontario</td>\n",
       "      <td>First-time homebuyer</td>\n",
       "      <td>Total, structural type of dwelling</td>\n",
       "      <td>532800</td>\n",
       "      <td>NaN</td>\n",
       "      <td>NaN</td>\n",
       "      <td>NaN</td>\n",
       "      <td>First-time homebuyer</td>\n",
       "    </tr>\n",
       "  </tbody>\n",
       "</table>\n",
       "</div>"
      ],
      "text/plain": [
       "   REF_DATE      GEO Tenure including first-time homebuyer status  \\\n",
       "0      2018  Ontario                         First-time homebuyer   \n",
       "1      2021  Ontario                         First-time homebuyer   \n",
       "\n",
       "            Select housing indicators   VALUE  \\\n",
       "0  Total, structural type of dwelling  474300   \n",
       "1  Total, structural type of dwelling  532800   \n",
       "\n",
       "  Select household characteristics  \\\n",
       "0                              NaN   \n",
       "1                              NaN   \n",
       "\n",
       "  Tenure including first-time homebuyer and social and affordable housing status  \\\n",
       "0                                                NaN                               \n",
       "1                                                NaN                               \n",
       "\n",
       "  Acceptable housing                Tenure  \n",
       "0                NaN  First-time homebuyer  \n",
       "1                NaN  First-time homebuyer  "
      ]
     },
     "execution_count": 14,
     "metadata": {},
     "output_type": "execute_result"
    }
   ],
   "source": [
    "merged_df.head(2)"
   ]
  },
  {
   "cell_type": "code",
   "execution_count": 15,
   "metadata": {},
   "outputs": [
    {
     "data": {
      "text/html": [
       "<div>\n",
       "<style scoped>\n",
       "    .dataframe tbody tr th:only-of-type {\n",
       "        vertical-align: middle;\n",
       "    }\n",
       "\n",
       "    .dataframe tbody tr th {\n",
       "        vertical-align: top;\n",
       "    }\n",
       "\n",
       "    .dataframe thead th {\n",
       "        text-align: right;\n",
       "    }\n",
       "</style>\n",
       "<table border=\"1\" class=\"dataframe\">\n",
       "  <thead>\n",
       "    <tr style=\"text-align: right;\">\n",
       "      <th></th>\n",
       "      <th>REF_DATE</th>\n",
       "      <th>GEO</th>\n",
       "      <th>Select housing indicators</th>\n",
       "      <th>VALUE</th>\n",
       "      <th>Select household characteristics</th>\n",
       "      <th>Acceptable housing</th>\n",
       "      <th>Tenure</th>\n",
       "    </tr>\n",
       "  </thead>\n",
       "  <tbody>\n",
       "    <tr>\n",
       "      <th>0</th>\n",
       "      <td>2018</td>\n",
       "      <td>Ontario</td>\n",
       "      <td>Total, structural type of dwelling</td>\n",
       "      <td>474300</td>\n",
       "      <td>NaN</td>\n",
       "      <td>NaN</td>\n",
       "      <td>First-time homebuyer</td>\n",
       "    </tr>\n",
       "    <tr>\n",
       "      <th>1</th>\n",
       "      <td>2021</td>\n",
       "      <td>Ontario</td>\n",
       "      <td>Total, structural type of dwelling</td>\n",
       "      <td>532800</td>\n",
       "      <td>NaN</td>\n",
       "      <td>NaN</td>\n",
       "      <td>First-time homebuyer</td>\n",
       "    </tr>\n",
       "  </tbody>\n",
       "</table>\n",
       "</div>"
      ],
      "text/plain": [
       "   REF_DATE      GEO           Select housing indicators   VALUE  \\\n",
       "0      2018  Ontario  Total, structural type of dwelling  474300   \n",
       "1      2021  Ontario  Total, structural type of dwelling  532800   \n",
       "\n",
       "  Select household characteristics Acceptable housing                Tenure  \n",
       "0                              NaN                NaN  First-time homebuyer  \n",
       "1                              NaN                NaN  First-time homebuyer  "
      ]
     },
     "execution_count": 15,
     "metadata": {},
     "output_type": "execute_result"
    }
   ],
   "source": [
    "# Delete unnecessary 'Tenure...' columns\n",
    "unnecessary_columns = ['Tenure including first-time homebuyer and social and affordable housing status',\n",
    "                       'Tenure including first-time homebuyer status']\n",
    "merged_df.drop(columns=unnecessary_columns, inplace=True)\n",
    "merged_df.head(2)"
   ]
  },
  {
   "cell_type": "code",
   "execution_count": 16,
   "metadata": {},
   "outputs": [
    {
     "data": {
      "text/plain": [
       "Acceptable housing\n",
       "Does not live in acceptable housing    12\n",
       "Lives in acceptable housing            12\n",
       "Name: count, dtype: int64"
      ]
     },
     "execution_count": 16,
     "metadata": {},
     "output_type": "execute_result"
    }
   ],
   "source": [
    "merged_df['Acceptable housing'].value_counts()"
   ]
  },
  {
   "cell_type": "code",
   "execution_count": 17,
   "metadata": {},
   "outputs": [
    {
     "data": {
      "text/html": [
       "<div>\n",
       "<style scoped>\n",
       "    .dataframe tbody tr th:only-of-type {\n",
       "        vertical-align: middle;\n",
       "    }\n",
       "\n",
       "    .dataframe tbody tr th {\n",
       "        vertical-align: top;\n",
       "    }\n",
       "\n",
       "    .dataframe thead th {\n",
       "        text-align: right;\n",
       "    }\n",
       "</style>\n",
       "<table border=\"1\" class=\"dataframe\">\n",
       "  <thead>\n",
       "    <tr style=\"text-align: right;\">\n",
       "      <th></th>\n",
       "      <th>REF_DATE</th>\n",
       "      <th>GEO</th>\n",
       "      <th>Select housing indicators</th>\n",
       "      <th>VALUE</th>\n",
       "      <th>Select household characteristics</th>\n",
       "      <th>Acceptable housing</th>\n",
       "      <th>Tenure</th>\n",
       "      <th>Household characteristics</th>\n",
       "    </tr>\n",
       "  </thead>\n",
       "  <tbody>\n",
       "    <tr>\n",
       "      <th>0</th>\n",
       "      <td>2018</td>\n",
       "      <td>Ontario</td>\n",
       "      <td>Total, structural type of dwelling</td>\n",
       "      <td>474300</td>\n",
       "      <td>NaN</td>\n",
       "      <td>NaN</td>\n",
       "      <td>First-time homebuyer</td>\n",
       "      <td>NaN</td>\n",
       "    </tr>\n",
       "    <tr>\n",
       "      <th>1</th>\n",
       "      <td>2021</td>\n",
       "      <td>Ontario</td>\n",
       "      <td>Total, structural type of dwelling</td>\n",
       "      <td>532800</td>\n",
       "      <td>NaN</td>\n",
       "      <td>NaN</td>\n",
       "      <td>First-time homebuyer</td>\n",
       "      <td>NaN</td>\n",
       "    </tr>\n",
       "  </tbody>\n",
       "</table>\n",
       "</div>"
      ],
      "text/plain": [
       "   REF_DATE      GEO           Select housing indicators   VALUE  \\\n",
       "0      2018  Ontario  Total, structural type of dwelling  474300   \n",
       "1      2021  Ontario  Total, structural type of dwelling  532800   \n",
       "\n",
       "  Select household characteristics Acceptable housing                Tenure  \\\n",
       "0                              NaN                NaN  First-time homebuyer   \n",
       "1                              NaN                NaN  First-time homebuyer   \n",
       "\n",
       "  Household characteristics  \n",
       "0                       NaN  \n",
       "1                       NaN  "
      ]
     },
     "execution_count": 17,
     "metadata": {},
     "output_type": "execute_result"
    }
   ],
   "source": [
    "# Merge columns 'Select household characteristics' & 'Acceptable housing'\n",
    "merged_df['Household characteristics'] = merged_df['Select household characteristics'].fillna(merged_df['Acceptable housing'])\n",
    "merged_df.head(2)"
   ]
  },
  {
   "cell_type": "code",
   "execution_count": 18,
   "metadata": {},
   "outputs": [
    {
     "data": {
      "text/html": [
       "<div>\n",
       "<style scoped>\n",
       "    .dataframe tbody tr th:only-of-type {\n",
       "        vertical-align: middle;\n",
       "    }\n",
       "\n",
       "    .dataframe tbody tr th {\n",
       "        vertical-align: top;\n",
       "    }\n",
       "\n",
       "    .dataframe thead th {\n",
       "        text-align: right;\n",
       "    }\n",
       "</style>\n",
       "<table border=\"1\" class=\"dataframe\">\n",
       "  <thead>\n",
       "    <tr style=\"text-align: right;\">\n",
       "      <th></th>\n",
       "      <th>REF_DATE</th>\n",
       "      <th>GEO</th>\n",
       "      <th>Select housing indicators</th>\n",
       "      <th>VALUE</th>\n",
       "      <th>Tenure</th>\n",
       "      <th>Household characteristics</th>\n",
       "    </tr>\n",
       "  </thead>\n",
       "  <tbody>\n",
       "    <tr>\n",
       "      <th>0</th>\n",
       "      <td>2018</td>\n",
       "      <td>Ontario</td>\n",
       "      <td>Total, structural type of dwelling</td>\n",
       "      <td>474300</td>\n",
       "      <td>First-time homebuyer</td>\n",
       "      <td>NaN</td>\n",
       "    </tr>\n",
       "    <tr>\n",
       "      <th>1</th>\n",
       "      <td>2021</td>\n",
       "      <td>Ontario</td>\n",
       "      <td>Total, structural type of dwelling</td>\n",
       "      <td>532800</td>\n",
       "      <td>First-time homebuyer</td>\n",
       "      <td>NaN</td>\n",
       "    </tr>\n",
       "  </tbody>\n",
       "</table>\n",
       "</div>"
      ],
      "text/plain": [
       "   REF_DATE      GEO           Select housing indicators   VALUE  \\\n",
       "0      2018  Ontario  Total, structural type of dwelling  474300   \n",
       "1      2021  Ontario  Total, structural type of dwelling  532800   \n",
       "\n",
       "                 Tenure Household characteristics  \n",
       "0  First-time homebuyer                       NaN  \n",
       "1  First-time homebuyer                       NaN  "
      ]
     },
     "execution_count": 18,
     "metadata": {},
     "output_type": "execute_result"
    }
   ],
   "source": [
    "# Delete unnecessary 'Housing...' columns\n",
    "unnecessary_columns = ['Select household characteristics',\n",
    "                       'Acceptable housing']\n",
    "merged_df.drop(columns=unnecessary_columns, inplace=True)\n",
    "merged_df.head(2)"
   ]
  },
  {
   "cell_type": "code",
   "execution_count": 19,
   "metadata": {},
   "outputs": [
    {
     "data": {
      "text/html": [
       "<div>\n",
       "<style scoped>\n",
       "    .dataframe tbody tr th:only-of-type {\n",
       "        vertical-align: middle;\n",
       "    }\n",
       "\n",
       "    .dataframe tbody tr th {\n",
       "        vertical-align: top;\n",
       "    }\n",
       "\n",
       "    .dataframe thead th {\n",
       "        text-align: right;\n",
       "    }\n",
       "</style>\n",
       "<table border=\"1\" class=\"dataframe\">\n",
       "  <thead>\n",
       "    <tr style=\"text-align: right;\">\n",
       "      <th></th>\n",
       "      <th>REF_DATE</th>\n",
       "      <th>GEO</th>\n",
       "      <th>Select housing indicators</th>\n",
       "      <th>VALUE</th>\n",
       "      <th>Tenure</th>\n",
       "      <th>Household characteristics</th>\n",
       "      <th>Housing characteristics</th>\n",
       "    </tr>\n",
       "  </thead>\n",
       "  <tbody>\n",
       "    <tr>\n",
       "      <th>0</th>\n",
       "      <td>2018</td>\n",
       "      <td>Ontario</td>\n",
       "      <td>Total, structural type of dwelling</td>\n",
       "      <td>474300</td>\n",
       "      <td>First-time homebuyer</td>\n",
       "      <td>NaN</td>\n",
       "      <td>Total, structural type of dwelling</td>\n",
       "    </tr>\n",
       "    <tr>\n",
       "      <th>1</th>\n",
       "      <td>2021</td>\n",
       "      <td>Ontario</td>\n",
       "      <td>Total, structural type of dwelling</td>\n",
       "      <td>532800</td>\n",
       "      <td>First-time homebuyer</td>\n",
       "      <td>NaN</td>\n",
       "      <td>Total, structural type of dwelling</td>\n",
       "    </tr>\n",
       "  </tbody>\n",
       "</table>\n",
       "</div>"
      ],
      "text/plain": [
       "   REF_DATE      GEO           Select housing indicators   VALUE  \\\n",
       "0      2018  Ontario  Total, structural type of dwelling  474300   \n",
       "1      2021  Ontario  Total, structural type of dwelling  532800   \n",
       "\n",
       "                 Tenure Household characteristics  \\\n",
       "0  First-time homebuyer                       NaN   \n",
       "1  First-time homebuyer                       NaN   \n",
       "\n",
       "              Housing characteristics  \n",
       "0  Total, structural type of dwelling  \n",
       "1  Total, structural type of dwelling  "
      ]
     },
     "execution_count": 19,
     "metadata": {},
     "output_type": "execute_result"
    }
   ],
   "source": [
    "# Merge columns 'Select household characteristics' & 'Acceptable housing'\n",
    "merged_df['Housing characteristics'] = merged_df['Household characteristics'].fillna(merged_df['Select housing indicators'])\n",
    "merged_df.head(2)"
   ]
  },
  {
   "cell_type": "code",
   "execution_count": 20,
   "metadata": {},
   "outputs": [
    {
     "data": {
      "text/plain": [
       "Housing characteristics\n",
       "Total, structural type of dwelling                   108\n",
       "55 to 64 years                                       108\n",
       "Moved for another reason                             108\n",
       "Total, household type                                108\n",
       "One-family household - couple with children          108\n",
       "                                                    ... \n",
       "Neighbourhood satisfaction rating between 0 and 5     72\n",
       "Neighbourhood satisfaction rating of 6 or 7           72\n",
       "Neighbourhood satisfaction rating of 8, 9 or 10       72\n",
       "Does not live in acceptable housing                   12\n",
       "Lives in acceptable housing                           12\n",
       "Name: count, Length: 64, dtype: int64"
      ]
     },
     "execution_count": 20,
     "metadata": {},
     "output_type": "execute_result"
    }
   ],
   "source": [
    "merged_df['Housing characteristics'].value_counts()"
   ]
  },
  {
   "cell_type": "code",
   "execution_count": 21,
   "metadata": {},
   "outputs": [
    {
     "data": {
      "text/html": [
       "<div>\n",
       "<style scoped>\n",
       "    .dataframe tbody tr th:only-of-type {\n",
       "        vertical-align: middle;\n",
       "    }\n",
       "\n",
       "    .dataframe tbody tr th {\n",
       "        vertical-align: top;\n",
       "    }\n",
       "\n",
       "    .dataframe thead th {\n",
       "        text-align: right;\n",
       "    }\n",
       "</style>\n",
       "<table border=\"1\" class=\"dataframe\">\n",
       "  <thead>\n",
       "    <tr style=\"text-align: right;\">\n",
       "      <th></th>\n",
       "      <th>REF_DATE</th>\n",
       "      <th>GEO</th>\n",
       "      <th>VALUE</th>\n",
       "      <th>Tenure</th>\n",
       "      <th>Housing characteristics</th>\n",
       "    </tr>\n",
       "  </thead>\n",
       "  <tbody>\n",
       "    <tr>\n",
       "      <th>0</th>\n",
       "      <td>2018</td>\n",
       "      <td>Ontario</td>\n",
       "      <td>474300</td>\n",
       "      <td>First-time homebuyer</td>\n",
       "      <td>Total, structural type of dwelling</td>\n",
       "    </tr>\n",
       "    <tr>\n",
       "      <th>1</th>\n",
       "      <td>2021</td>\n",
       "      <td>Ontario</td>\n",
       "      <td>532800</td>\n",
       "      <td>First-time homebuyer</td>\n",
       "      <td>Total, structural type of dwelling</td>\n",
       "    </tr>\n",
       "  </tbody>\n",
       "</table>\n",
       "</div>"
      ],
      "text/plain": [
       "   REF_DATE      GEO   VALUE                Tenure  \\\n",
       "0      2018  Ontario  474300  First-time homebuyer   \n",
       "1      2021  Ontario  532800  First-time homebuyer   \n",
       "\n",
       "              Housing characteristics  \n",
       "0  Total, structural type of dwelling  \n",
       "1  Total, structural type of dwelling  "
      ]
     },
     "execution_count": 21,
     "metadata": {},
     "output_type": "execute_result"
    }
   ],
   "source": [
    "# Delete unnecessary 'Housing...' columns\n",
    "unnecessary_columns = ['Household characteristics',\n",
    "                       'Select housing indicators']\n",
    "merged_df.drop(columns=unnecessary_columns, inplace=True)\n",
    "merged_df.head(2)"
   ]
  },
  {
   "cell_type": "code",
   "execution_count": 22,
   "metadata": {},
   "outputs": [
    {
     "name": "stdout",
     "output_type": "stream",
     "text": [
      "0\n"
     ]
    }
   ],
   "source": [
    "# Count Nan values\n",
    "total_nan_count = merged_df.isna().sum().sum()\n",
    "print(total_nan_count)"
   ]
  },
  {
   "cell_type": "code",
   "execution_count": 23,
   "metadata": {},
   "outputs": [],
   "source": [
    "# Rename columns\n",
    "merged_df.rename(columns={'REF_DATE': 'Year',\n",
    "                          'GEO' : 'Location', \n",
    "                          'VALUE': 'Number of Households',\n",
    "                          'Housing characteristics' : 'Housing Characteristics'}, inplace=True)"
   ]
  },
  {
   "cell_type": "code",
   "execution_count": 24,
   "metadata": {},
   "outputs": [
    {
     "data": {
      "text/html": [
       "<div>\n",
       "<style scoped>\n",
       "    .dataframe tbody tr th:only-of-type {\n",
       "        vertical-align: middle;\n",
       "    }\n",
       "\n",
       "    .dataframe tbody tr th {\n",
       "        vertical-align: top;\n",
       "    }\n",
       "\n",
       "    .dataframe thead th {\n",
       "        text-align: right;\n",
       "    }\n",
       "</style>\n",
       "<table border=\"1\" class=\"dataframe\">\n",
       "  <thead>\n",
       "    <tr style=\"text-align: right;\">\n",
       "      <th></th>\n",
       "      <th>Year</th>\n",
       "      <th>Location</th>\n",
       "      <th>Number of Households</th>\n",
       "      <th>Tenure</th>\n",
       "      <th>Housing Characteristics</th>\n",
       "    </tr>\n",
       "  </thead>\n",
       "  <tbody>\n",
       "    <tr>\n",
       "      <th>0</th>\n",
       "      <td>2018</td>\n",
       "      <td>Ontario</td>\n",
       "      <td>474300</td>\n",
       "      <td>First-time homebuyer</td>\n",
       "      <td>Total, structural type of dwelling</td>\n",
       "    </tr>\n",
       "    <tr>\n",
       "      <th>1</th>\n",
       "      <td>2021</td>\n",
       "      <td>Ontario</td>\n",
       "      <td>532800</td>\n",
       "      <td>First-time homebuyer</td>\n",
       "      <td>Total, structural type of dwelling</td>\n",
       "    </tr>\n",
       "  </tbody>\n",
       "</table>\n",
       "</div>"
      ],
      "text/plain": [
       "   Year Location  Number of Households                Tenure  \\\n",
       "0  2018  Ontario                474300  First-time homebuyer   \n",
       "1  2021  Ontario                532800  First-time homebuyer   \n",
       "\n",
       "              Housing Characteristics  \n",
       "0  Total, structural type of dwelling  \n",
       "1  Total, structural type of dwelling  "
      ]
     },
     "execution_count": 24,
     "metadata": {},
     "output_type": "execute_result"
    }
   ],
   "source": [
    "merged_df.head(2)"
   ]
  },
  {
   "cell_type": "code",
   "execution_count": 25,
   "metadata": {},
   "outputs": [
    {
     "data": {
      "text/plain": [
       "Location\n",
       "Ontario                                                                 555\n",
       "Large urban population centres, Ontario                                 531\n",
       "Medium population centres, Ontario                                      531\n",
       "Small population centres, Ontario                                       531\n",
       "Rural areas, Ontario                                                    531\n",
       "Ottawa-Gatineau, Ontario/Quebec                                         531\n",
       "Toronto, Ontario                                                        531\n",
       "Hamilton, Ontario                                                       531\n",
       "Kitchener-Cambridge-Waterloo, Ontario                                   531\n",
       "London, Ontario                                                         531\n",
       "Census agglomerations, Ontario                                          531\n",
       "Outside census metropolitan areas and census agglomerations, Ontario    531\n",
       "Name: count, dtype: int64"
      ]
     },
     "execution_count": 25,
     "metadata": {},
     "output_type": "execute_result"
    }
   ],
   "source": [
    "merged_df['Location'].value_counts()"
   ]
  },
  {
   "cell_type": "code",
   "execution_count": 26,
   "metadata": {},
   "outputs": [
    {
     "data": {
      "text/html": [
       "<div>\n",
       "<style scoped>\n",
       "    .dataframe tbody tr th:only-of-type {\n",
       "        vertical-align: middle;\n",
       "    }\n",
       "\n",
       "    .dataframe tbody tr th {\n",
       "        vertical-align: top;\n",
       "    }\n",
       "\n",
       "    .dataframe thead th {\n",
       "        text-align: right;\n",
       "    }\n",
       "</style>\n",
       "<table border=\"1\" class=\"dataframe\">\n",
       "  <thead>\n",
       "    <tr style=\"text-align: right;\">\n",
       "      <th></th>\n",
       "      <th>Year</th>\n",
       "      <th>Location</th>\n",
       "      <th>Number of Households</th>\n",
       "      <th>Tenure</th>\n",
       "      <th>Housing Characteristics</th>\n",
       "    </tr>\n",
       "  </thead>\n",
       "  <tbody>\n",
       "    <tr>\n",
       "      <th>288</th>\n",
       "      <td>2018</td>\n",
       "      <td>Large urban population centres, Ontario</td>\n",
       "      <td>342800</td>\n",
       "      <td>First-time homebuyer</td>\n",
       "      <td>Total, structural type of dwelling</td>\n",
       "    </tr>\n",
       "    <tr>\n",
       "      <th>289</th>\n",
       "      <td>2021</td>\n",
       "      <td>Large urban population centres, Ontario</td>\n",
       "      <td>370000</td>\n",
       "      <td>First-time homebuyer</td>\n",
       "      <td>Total, structural type of dwelling</td>\n",
       "    </tr>\n",
       "  </tbody>\n",
       "</table>\n",
       "</div>"
      ],
      "text/plain": [
       "     Year                                 Location  Number of Households  \\\n",
       "288  2018  Large urban population centres, Ontario                342800   \n",
       "289  2021  Large urban population centres, Ontario                370000   \n",
       "\n",
       "                   Tenure             Housing Characteristics  \n",
       "288  First-time homebuyer  Total, structural type of dwelling  \n",
       "289  First-time homebuyer  Total, structural type of dwelling  "
      ]
     },
     "execution_count": 26,
     "metadata": {},
     "output_type": "execute_result"
    }
   ],
   "source": [
    "# Drop 'Location' rows with 'Ontario' as there is enough information in the rest\n",
    "merged_df = merged_df[merged_df['Location'] != 'Ontario']\n",
    "merged_df.head(2)"
   ]
  },
  {
   "cell_type": "code",
   "execution_count": 27,
   "metadata": {},
   "outputs": [
    {
     "data": {
      "text/html": [
       "<div>\n",
       "<style scoped>\n",
       "    .dataframe tbody tr th:only-of-type {\n",
       "        vertical-align: middle;\n",
       "    }\n",
       "\n",
       "    .dataframe tbody tr th {\n",
       "        vertical-align: top;\n",
       "    }\n",
       "\n",
       "    .dataframe thead th {\n",
       "        text-align: right;\n",
       "    }\n",
       "</style>\n",
       "<table border=\"1\" class=\"dataframe\">\n",
       "  <thead>\n",
       "    <tr style=\"text-align: right;\">\n",
       "      <th></th>\n",
       "      <th>Year</th>\n",
       "      <th>Location</th>\n",
       "      <th>Number of Households</th>\n",
       "      <th>Tenure</th>\n",
       "      <th>Housing Characteristics</th>\n",
       "    </tr>\n",
       "  </thead>\n",
       "  <tbody>\n",
       "    <tr>\n",
       "      <th>291</th>\n",
       "      <td>2018</td>\n",
       "      <td>Large urban population centres, Ontario</td>\n",
       "      <td>151100</td>\n",
       "      <td>First-time homebuyer</td>\n",
       "      <td>Single-detached house</td>\n",
       "    </tr>\n",
       "    <tr>\n",
       "      <th>292</th>\n",
       "      <td>2021</td>\n",
       "      <td>Large urban population centres, Ontario</td>\n",
       "      <td>175500</td>\n",
       "      <td>First-time homebuyer</td>\n",
       "      <td>Single-detached house</td>\n",
       "    </tr>\n",
       "  </tbody>\n",
       "</table>\n",
       "</div>"
      ],
      "text/plain": [
       "     Year                                 Location  Number of Households  \\\n",
       "291  2018  Large urban population centres, Ontario                151100   \n",
       "292  2021  Large urban population centres, Ontario                175500   \n",
       "\n",
       "                   Tenure Housing Characteristics  \n",
       "291  First-time homebuyer   Single-detached house  \n",
       "292  First-time homebuyer   Single-detached house  "
      ]
     },
     "execution_count": 27,
     "metadata": {},
     "output_type": "execute_result"
    }
   ],
   "source": [
    "# Drop all rows that start with 'total' as it is not needed\n",
    "merged_df = merged_df[~merged_df['Housing Characteristics'].str.startswith('Total')]\n",
    "final_df = merged_df\n",
    "final_df.head(2)"
   ]
  },
  {
   "cell_type": "code",
   "execution_count": 28,
   "metadata": {},
   "outputs": [
    {
     "data": {
      "text/plain": [
       "Year\n",
       "2021    1749\n",
       "2022    1749\n",
       "2018    1518\n",
       "Name: count, dtype: int64"
      ]
     },
     "execution_count": 28,
     "metadata": {},
     "output_type": "execute_result"
    }
   ],
   "source": [
    "final_df['Year'].value_counts()"
   ]
  },
  {
   "cell_type": "code",
   "execution_count": 29,
   "metadata": {},
   "outputs": [],
   "source": [
    "# Drop all rows for 2018, the data skips a year and is not even with the other two years\n",
    "final_df = final_df[final_df['Year'] != 2018]"
   ]
  },
  {
   "cell_type": "code",
   "execution_count": 30,
   "metadata": {},
   "outputs": [],
   "source": [
    "final_df.to_csv(Path('Resources/final_df.csv', inplace=False))"
   ]
  }
 ],
 "metadata": {
  "kernelspec": {
   "display_name": "dev",
   "language": "python",
   "name": "python3"
  },
  "language_info": {
   "codemirror_mode": {
    "name": "ipython",
    "version": 3
   },
   "file_extension": ".py",
   "mimetype": "text/x-python",
   "name": "python",
   "nbconvert_exporter": "python",
   "pygments_lexer": "ipython3",
   "version": "3.10.14"
  }
 },
 "nbformat": 4,
 "nbformat_minor": 2
}
